{
 "cells": [
  {
   "cell_type": "markdown",
   "metadata": {},
   "source": [
    "## Imported Library"
   ]
  },
  {
   "cell_type": "code",
   "execution_count": 1,
   "metadata": {},
   "outputs": [],
   "source": [
    "import requests\n",
    "from bs4 import BeautifulSoup\n",
    "\n",
    "import plotly.express as px\n",
    "import plotly.graph_objects as go\n",
    "import plotly.io as pio\n",
    "import pandas as pd\n",
    "import matplotlib.pyplot as plt\n",
    "import seaborn as sns"
   ]
  },
  {
   "cell_type": "markdown",
   "metadata": {},
   "source": [
    "## Scrapping List of Countries by Continent from Wikipedia"
   ]
  },
  {
   "cell_type": "code",
   "execution_count": 2,
   "metadata": {},
   "outputs": [],
   "source": [
    "# Mengambil data dari wikipedia dari link terkait\n",
    "continents_page = requests.get('https://simple.wikipedia.org/wiki/List_of_countries_by_continents').text\n",
    "continent_country_soup = BeautifulSoup(continents_page, 'lxml')\n",
    "# continent_country_soup"
   ]
  },
  {
   "cell_type": "markdown",
   "metadata": {},
   "source": [
    "### Continents Scrapping"
   ]
  },
  {
   "cell_type": "code",
   "execution_count": 3,
   "metadata": {},
   "outputs": [
    {
     "data": {
      "text/plain": [
       "[<span class=\"mw-headline\" id=\"Africa\">Africa</span>,\n",
       " <span class=\"mw-headline\" id=\"Antarctica\">Antarctica</span>,\n",
       " <span class=\"mw-headline\" id=\"Asia\">Asia</span>,\n",
       " <span class=\"mw-headline\" id=\"Europe\">Europe</span>,\n",
       " <span class=\"mw-headline\" id=\"North_America\">North America</span>,\n",
       " <span class=\"mw-headline\" id=\"South_America\">South America</span>,\n",
       " <span class=\"mw-headline\" id=\"Oceania\">Oceania</span>,\n",
       " <span class=\"mw-headline\" id=\"References\">References</span>,\n",
       " <span class=\"mw-headline\" id=\"Other_websites\">Other websites</span>]"
      ]
     },
     "execution_count": 3,
     "metadata": {},
     "output_type": "execute_result"
    }
   ],
   "source": [
    "# Mengambil data benua berdasarkan atribut dari html\n",
    "abs_continents = continent_country_soup.find_all('span', class_='mw-headline')\n",
    "abs_continents"
   ]
  },
  {
   "cell_type": "code",
   "execution_count": 4,
   "metadata": {},
   "outputs": [
    {
     "data": {
      "text/plain": [
       "['Africa',\n",
       " 'Antarctica',\n",
       " 'Asia',\n",
       " 'Europe',\n",
       " 'North America',\n",
       " 'South America',\n",
       " 'Oceania',\n",
       " 'References',\n",
       " 'Other websites']"
      ]
     },
     "execution_count": 4,
     "metadata": {},
     "output_type": "execute_result"
    }
   ],
   "source": [
    "# List benua\n",
    "continents = []\n",
    "for continent in abs_continents:\n",
    "    continents.append(continent.get_text())\n",
    "continents"
   ]
  },
  {
   "cell_type": "code",
   "execution_count": 5,
   "metadata": {},
   "outputs": [
    {
     "data": {
      "text/plain": [
       "['Africa',\n",
       " 'Asia',\n",
       " 'Europe',\n",
       " 'North America',\n",
       " 'South America',\n",
       " 'Oceania',\n",
       " 'Other websites']"
      ]
     },
     "execution_count": 5,
     "metadata": {},
     "output_type": "execute_result"
    }
   ],
   "source": [
    "# Menghapus list 'References', 'Antartica', dan 'Other Websites'\n",
    "deleted_continents = ['References', 'Antarctica']\n",
    "for i in continents:\n",
    "    if i in deleted_continents:\n",
    "        continents.remove(i)\n",
    "continents"
   ]
  },
  {
   "cell_type": "markdown",
   "metadata": {},
   "source": [
    "### Country Scrapping"
   ]
  },
  {
   "cell_type": "code",
   "execution_count": 6,
   "metadata": {},
   "outputs": [],
   "source": [
    "# Mengambil semua atribut li dari html di dalam atribut ol\n",
    "abs_country = continent_country_soup.find_all('ol')\n",
    "countries = []\n",
    "for country in abs_country:\n",
    "    countries.append(country.find_all('li'))\n",
    "# countries"
   ]
  },
  {
   "cell_type": "code",
   "execution_count": 7,
   "metadata": {},
   "outputs": [
    {
     "data": {
      "text/plain": [
       "[['Algeria',\n",
       "  'Angola',\n",
       "  'Benin',\n",
       "  'Botswana',\n",
       "  'Burkina Faso',\n",
       "  'Burundi',\n",
       "  'Cameroon',\n",
       "  'Cape Verde',\n",
       "  'Central African Republic',\n",
       "  'Chad',\n",
       "  'Comoros',\n",
       "  'Republic of the Congo',\n",
       "  'Democratic Republic of the Congo',\n",
       "  \"Côte d'Ivoire\",\n",
       "  'Djibouti',\n",
       "  'Equatorial Guinea',\n",
       "  'Egypt',\n",
       "  'Eritrea',\n",
       "  'Ethiopia',\n",
       "  'Gabon',\n",
       "  'The Gambia',\n",
       "  'Ghana',\n",
       "  'Guinea',\n",
       "  'Guinea-Bissau',\n",
       "  'Kenya',\n",
       "  'Lesotho',\n",
       "  'Liberia',\n",
       "  'Libya',\n",
       "  'Madagascar',\n",
       "  'Malawi',\n",
       "  'Mali',\n",
       "  'Mauritania',\n",
       "  'Mauritius',\n",
       "  'Morocco',\n",
       "  'Mozambique',\n",
       "  'Namibia',\n",
       "  'Niger',\n",
       "  'Nigeria',\n",
       "  'Réunion',\n",
       "  'Rwanda',\n",
       "  'São Tomé and Príncipe',\n",
       "  'Senegal',\n",
       "  'Seychelles',\n",
       "  'Sierra Leone',\n",
       "  'Somalia',\n",
       "  'South Africa',\n",
       "  'South Sudan',\n",
       "  'Sudan',\n",
       "  'Swaziland',\n",
       "  'Tanzania',\n",
       "  'Togo',\n",
       "  'Tunisia',\n",
       "  'Uganda',\n",
       "  'Western Sahara',\n",
       "  'Zambia',\n",
       "  'Zimbabwe'],\n",
       " ['Afghanistan',\n",
       "  'Armenia',\n",
       "  'Azerbaijan',\n",
       "  'Bahrain',\n",
       "  'Bangladesh',\n",
       "  'Bhutan',\n",
       "  'Brunei',\n",
       "  'Cambodia',\n",
       "  'China',\n",
       "  'East Timor',\n",
       "  'Georgia',\n",
       "  'India',\n",
       "  'Indonesia',\n",
       "  'Iran',\n",
       "  'Iraq',\n",
       "  'Israel',\n",
       "  'Japan',\n",
       "  'Jordan',\n",
       "  'Kazakhstan',\n",
       "  'Kuwait',\n",
       "  'Kyrgyzstan',\n",
       "  'Laos',\n",
       "  'Lebanon',\n",
       "  'Malaysia',\n",
       "  'Maldives',\n",
       "  'Mongolia',\n",
       "  'Myanmar',\n",
       "  'Nepal',\n",
       "  'North Korea',\n",
       "  'Oman',\n",
       "  'Pakistan',\n",
       "  'Palestine',\n",
       "  'Philippines',\n",
       "  'Qatar',\n",
       "  'Russia',\n",
       "  'Saudi Arabia',\n",
       "  'Singapore',\n",
       "  'South Korea',\n",
       "  'Sri Lanka',\n",
       "  'Syria',\n",
       "  'Taiwan',\n",
       "  'Tajikistan',\n",
       "  'Thailand',\n",
       "  'Turkey',\n",
       "  'Turkmenistan',\n",
       "  'United Arab Emirates',\n",
       "  'Uzbekistan',\n",
       "  'Vietnam',\n",
       "  'Yemen'],\n",
       " ['Albania',\n",
       "  'Andorra',\n",
       "  'Austria',\n",
       "  'Belarus',\n",
       "  'Belgium',\n",
       "  'Bosnia and Herzegovina',\n",
       "  'Bulgaria',\n",
       "  'Croatia',\n",
       "  'Cyprus',\n",
       "  'Czech Republic',\n",
       "  'Denmark',\n",
       "  'Estonia',\n",
       "  'Finland',\n",
       "  'France',\n",
       "  'Georgia',\n",
       "  'Germany',\n",
       "  'Greece',\n",
       "  'Hungary',\n",
       "  'Iceland',\n",
       "  'Republic of Ireland',\n",
       "  'Italy',\n",
       "  'Kosovo',\n",
       "  'Latvia',\n",
       "  'Liechtenstein',\n",
       "  'Lithuania',\n",
       "  'Luxembourg',\n",
       "  'North Macedonia',\n",
       "  'Malta',\n",
       "  'Moldova',\n",
       "  'Monaco',\n",
       "  'Montenegro',\n",
       "  'Netherlands',\n",
       "  'Norway',\n",
       "  'Poland',\n",
       "  'Portugal',\n",
       "  'Romania',\n",
       "  'Russia',\n",
       "  'San Marino',\n",
       "  'Serbia',\n",
       "  'Slovakia',\n",
       "  'Slovenia',\n",
       "  'Spain',\n",
       "  'Sweden',\n",
       "  'Switzerland',\n",
       "  'Turkey',\n",
       "  'Ukraine',\n",
       "  'United Kingdom',\n",
       "  'Vatican City'],\n",
       " ['Canada',\n",
       "  'Mexico',\n",
       "  'United States of America',\n",
       "  'Navassa Island',\n",
       "  'Puerto Rico',\n",
       "  'US Virgin Islands',\n",
       "  'Dominican Republic',\n",
       "  'Cuba',\n",
       "  'Greenland',\n",
       "  'Haiti',\n",
       "  'Belize',\n",
       "  'Costa Rica',\n",
       "  'El Salvador',\n",
       "  'Guatemala',\n",
       "  'Honduras',\n",
       "  'Guadeloupe',\n",
       "  'Martinique',\n",
       "  'Nicaragua',\n",
       "  'Panama',\n",
       "  'Jamaica',\n",
       "  'Bahamas',\n",
       "  'Barbados',\n",
       "  'Dominica'],\n",
       " ['Brazil',\n",
       "  'Argentina',\n",
       "  'Bolivia',\n",
       "  'Chile',\n",
       "  'Colombia',\n",
       "  'Ecuador',\n",
       "  'Falkland Islands',\n",
       "  'French Guiana',\n",
       "  'Guyana',\n",
       "  'Paraguay',\n",
       "  'Peru',\n",
       "  'South Georgia and the South Sandwich Islands',\n",
       "  'Suriname',\n",
       "  'Trinidad and Tobago',\n",
       "  'Uruguay',\n",
       "  'Venezuela'],\n",
       " ['Australia',\n",
       "  'Fiji',\n",
       "  'New Zealand',\n",
       "  'Federated States of Micronesia',\n",
       "  'Kiribati',\n",
       "  'Marshall Islands',\n",
       "  'Nauru',\n",
       "  'Palau',\n",
       "  'Papua New Guinea',\n",
       "  'Samoa',\n",
       "  'Solomon Islands',\n",
       "  'Tonga',\n",
       "  'Tuvalu',\n",
       "  'Vanuatu'],\n",
       " ['Australia',\n",
       "  'Flores',\n",
       "  'Lombok',\n",
       "  'Melanesia',\n",
       "  'New Caledonia',\n",
       "  'New Guinea',\n",
       "  'Sulawesi',\n",
       "  'Sumbawa',\n",
       "  'Timor']]"
      ]
     },
     "execution_count": 7,
     "metadata": {},
     "output_type": "execute_result"
    }
   ],
   "source": [
    "# List negara berdasarkan benuanya\n",
    "countries_in_continent = []\n",
    "for items in countries:\n",
    "    country = []\n",
    "    if items:\n",
    "        for c in items:\n",
    "            country.append(c.find('a').get_text())\n",
    "        countries_in_continent.append(country)\n",
    "    else:\n",
    "        countries_in_continent.append(None)\n",
    "        \n",
    "countries_in_continent"
   ]
  },
  {
   "cell_type": "markdown",
   "metadata": {},
   "source": [
    "### Convert to Dataframe"
   ]
  },
  {
   "cell_type": "code",
   "execution_count": 8,
   "metadata": {},
   "outputs": [
    {
     "data": {
      "text/html": [
       "<div>\n",
       "<style scoped>\n",
       "    .dataframe tbody tr th:only-of-type {\n",
       "        vertical-align: middle;\n",
       "    }\n",
       "\n",
       "    .dataframe tbody tr th {\n",
       "        vertical-align: top;\n",
       "    }\n",
       "\n",
       "    .dataframe thead th {\n",
       "        text-align: right;\n",
       "    }\n",
       "</style>\n",
       "<table border=\"1\" class=\"dataframe\">\n",
       "  <thead>\n",
       "    <tr style=\"text-align: right;\">\n",
       "      <th></th>\n",
       "      <th>Country</th>\n",
       "      <th>Continent</th>\n",
       "    </tr>\n",
       "  </thead>\n",
       "  <tbody>\n",
       "    <tr>\n",
       "      <th>0</th>\n",
       "      <td>[Algeria, Angola, Benin, Botswana, Burkina Fas...</td>\n",
       "      <td>Africa</td>\n",
       "    </tr>\n",
       "    <tr>\n",
       "      <th>1</th>\n",
       "      <td>[Afghanistan, Armenia, Azerbaijan, Bahrain, Ba...</td>\n",
       "      <td>Asia</td>\n",
       "    </tr>\n",
       "    <tr>\n",
       "      <th>2</th>\n",
       "      <td>[Albania, Andorra, Austria, Belarus, Belgium, ...</td>\n",
       "      <td>Europe</td>\n",
       "    </tr>\n",
       "    <tr>\n",
       "      <th>3</th>\n",
       "      <td>[Canada, Mexico, United States of America, Nav...</td>\n",
       "      <td>North America</td>\n",
       "    </tr>\n",
       "    <tr>\n",
       "      <th>4</th>\n",
       "      <td>[Brazil, Argentina, Bolivia, Chile, Colombia, ...</td>\n",
       "      <td>South America</td>\n",
       "    </tr>\n",
       "  </tbody>\n",
       "</table>\n",
       "</div>"
      ],
      "text/plain": [
       "                                             Country      Continent\n",
       "0  [Algeria, Angola, Benin, Botswana, Burkina Fas...         Africa\n",
       "1  [Afghanistan, Armenia, Azerbaijan, Bahrain, Ba...           Asia\n",
       "2  [Albania, Andorra, Austria, Belarus, Belgium, ...         Europe\n",
       "3  [Canada, Mexico, United States of America, Nav...  North America\n",
       "4  [Brazil, Argentina, Bolivia, Chile, Colombia, ...  South America"
      ]
     },
     "execution_count": 8,
     "metadata": {},
     "output_type": "execute_result"
    }
   ],
   "source": [
    "df_country = pd.DataFrame({\n",
    "    'Country' : countries_in_continent,\n",
    "    'Continent' : continents,\n",
    "})\n",
    "df_country.head()"
   ]
  },
  {
   "cell_type": "code",
   "execution_count": 9,
   "metadata": {},
   "outputs": [
    {
     "name": "stdout",
     "output_type": "stream",
     "text": [
      "<class 'pandas.core.frame.DataFrame'>\n",
      "RangeIndex: 215 entries, 0 to 214\n",
      "Data columns (total 2 columns):\n",
      " #   Column     Non-Null Count  Dtype \n",
      "---  ------     --------------  ----- \n",
      " 0   Country    215 non-null    object\n",
      " 1   Continent  215 non-null    object\n",
      "dtypes: object(2)\n",
      "memory usage: 3.5+ KB\n"
     ]
    }
   ],
   "source": [
    "# Pecahkan list di dalam kolom country ke dalam baris baru\n",
    "df_country = df_country.explode('Country').reset_index(drop=True)\n",
    "df_country.info()"
   ]
  },
  {
   "cell_type": "code",
   "execution_count": 10,
   "metadata": {},
   "outputs": [
    {
     "data": {
      "text/plain": [
       "0"
      ]
     },
     "execution_count": 10,
     "metadata": {},
     "output_type": "execute_result"
    }
   ],
   "source": [
    "# Periksa data pada kolom country yang bernilai \"\"\n",
    "len(df_country[df_country['Country'] == 'None'])"
   ]
  },
  {
   "cell_type": "code",
   "execution_count": 11,
   "metadata": {},
   "outputs": [],
   "source": [
    "# Convert to csv\n",
    "df_country.to_csv('country.csv', index=False)"
   ]
  },
  {
   "cell_type": "markdown",
   "metadata": {},
   "source": [
    "## Scrapping World Happiness Report from Wikipedia"
   ]
  },
  {
   "cell_type": "code",
   "execution_count": 12,
   "metadata": {},
   "outputs": [],
   "source": [
    "# Scrapping data\n",
    "whr_page = requests.get(\"https://en.wikipedia.org/wiki/World_Happiness_Report\")\n",
    "whr_soup = BeautifulSoup(whr_page.content, 'lxml')\n",
    "# whr_soup "
   ]
  },
  {
   "cell_type": "code",
   "execution_count": 13,
   "metadata": {},
   "outputs": [
    {
     "name": "stdout",
     "output_type": "stream",
     "text": [
      "<class 'pandas.core.frame.DataFrame'>\n",
      "RangeIndex: 153 entries, 0 to 152\n",
      "Data columns (total 9 columns):\n",
      " #   Column                        Non-Null Count  Dtype  \n",
      "---  ------                        --------------  -----  \n",
      " 0   Overall rank                  153 non-null    int64  \n",
      " 1   Country or region             153 non-null    object \n",
      " 2   Score                         153 non-null    float64\n",
      " 3   GDP per capita                153 non-null    float64\n",
      " 4   Social support                153 non-null    float64\n",
      " 5   Healthy life expectancy       153 non-null    float64\n",
      " 6   Freedom to make life choices  153 non-null    float64\n",
      " 7   Generosity                    153 non-null    float64\n",
      " 8   Perceptions of corruption     153 non-null    float64\n",
      "dtypes: float64(7), int64(1), object(1)\n",
      "memory usage: 10.9+ KB\n"
     ]
    }
   ],
   "source": [
    "# Menemukan table\n",
    "table = whr_soup.find_all('table', class_='wikitable')[2] # Ambil yang tahun 2020\n",
    "whr_df = pd.read_html(str(table))[0]\n",
    "whr_df.info()"
   ]
  },
  {
   "cell_type": "code",
   "execution_count": 14,
   "metadata": {},
   "outputs": [
    {
     "data": {
      "text/html": [
       "<div>\n",
       "<style scoped>\n",
       "    .dataframe tbody tr th:only-of-type {\n",
       "        vertical-align: middle;\n",
       "    }\n",
       "\n",
       "    .dataframe tbody tr th {\n",
       "        vertical-align: top;\n",
       "    }\n",
       "\n",
       "    .dataframe thead th {\n",
       "        text-align: right;\n",
       "    }\n",
       "</style>\n",
       "<table border=\"1\" class=\"dataframe\">\n",
       "  <thead>\n",
       "    <tr style=\"text-align: right;\">\n",
       "      <th></th>\n",
       "      <th>Overall rank</th>\n",
       "      <th>Country</th>\n",
       "      <th>Score</th>\n",
       "      <th>GDP per capita</th>\n",
       "      <th>Social support</th>\n",
       "      <th>Healthy life expectancy</th>\n",
       "      <th>Freedom to make life choices</th>\n",
       "      <th>Generosity</th>\n",
       "      <th>Perceptions of corruption</th>\n",
       "    </tr>\n",
       "  </thead>\n",
       "  <tbody>\n",
       "    <tr>\n",
       "      <th>0</th>\n",
       "      <td>1</td>\n",
       "      <td>Finland</td>\n",
       "      <td>7.809</td>\n",
       "      <td>1.285</td>\n",
       "      <td>1.500</td>\n",
       "      <td>0.961</td>\n",
       "      <td>0.662</td>\n",
       "      <td>0.160</td>\n",
       "      <td>0.478</td>\n",
       "    </tr>\n",
       "    <tr>\n",
       "      <th>1</th>\n",
       "      <td>2</td>\n",
       "      <td>Denmark</td>\n",
       "      <td>7.646</td>\n",
       "      <td>1.327</td>\n",
       "      <td>1.503</td>\n",
       "      <td>0.979</td>\n",
       "      <td>0.665</td>\n",
       "      <td>0.243</td>\n",
       "      <td>0.495</td>\n",
       "    </tr>\n",
       "    <tr>\n",
       "      <th>2</th>\n",
       "      <td>3</td>\n",
       "      <td>Switzerland</td>\n",
       "      <td>7.560</td>\n",
       "      <td>1.391</td>\n",
       "      <td>1.472</td>\n",
       "      <td>1.041</td>\n",
       "      <td>0.629</td>\n",
       "      <td>0.269</td>\n",
       "      <td>0.408</td>\n",
       "    </tr>\n",
       "    <tr>\n",
       "      <th>3</th>\n",
       "      <td>4</td>\n",
       "      <td>Iceland</td>\n",
       "      <td>7.504</td>\n",
       "      <td>1.327</td>\n",
       "      <td>1.548</td>\n",
       "      <td>1.001</td>\n",
       "      <td>0.662</td>\n",
       "      <td>0.362</td>\n",
       "      <td>0.145</td>\n",
       "    </tr>\n",
       "    <tr>\n",
       "      <th>4</th>\n",
       "      <td>5</td>\n",
       "      <td>Norway</td>\n",
       "      <td>7.488</td>\n",
       "      <td>1.424</td>\n",
       "      <td>1.495</td>\n",
       "      <td>1.008</td>\n",
       "      <td>0.670</td>\n",
       "      <td>0.288</td>\n",
       "      <td>0.434</td>\n",
       "    </tr>\n",
       "    <tr>\n",
       "      <th>...</th>\n",
       "      <td>...</td>\n",
       "      <td>...</td>\n",
       "      <td>...</td>\n",
       "      <td>...</td>\n",
       "      <td>...</td>\n",
       "      <td>...</td>\n",
       "      <td>...</td>\n",
       "      <td>...</td>\n",
       "      <td>...</td>\n",
       "    </tr>\n",
       "    <tr>\n",
       "      <th>148</th>\n",
       "      <td>149</td>\n",
       "      <td>Central African Republic</td>\n",
       "      <td>3.476</td>\n",
       "      <td>0.041</td>\n",
       "      <td>0.000</td>\n",
       "      <td>0.000</td>\n",
       "      <td>0.293</td>\n",
       "      <td>0.254</td>\n",
       "      <td>0.028</td>\n",
       "    </tr>\n",
       "    <tr>\n",
       "      <th>149</th>\n",
       "      <td>150</td>\n",
       "      <td>Rwanda</td>\n",
       "      <td>3.312</td>\n",
       "      <td>0.343</td>\n",
       "      <td>0.523</td>\n",
       "      <td>0.572</td>\n",
       "      <td>0.604</td>\n",
       "      <td>0.236</td>\n",
       "      <td>0.486</td>\n",
       "    </tr>\n",
       "    <tr>\n",
       "      <th>150</th>\n",
       "      <td>151</td>\n",
       "      <td>Zimbabwe</td>\n",
       "      <td>3.299</td>\n",
       "      <td>0.426</td>\n",
       "      <td>1.048</td>\n",
       "      <td>0.375</td>\n",
       "      <td>0.377</td>\n",
       "      <td>0.151</td>\n",
       "      <td>0.081</td>\n",
       "    </tr>\n",
       "    <tr>\n",
       "      <th>151</th>\n",
       "      <td>152</td>\n",
       "      <td>South Sudan</td>\n",
       "      <td>2.817</td>\n",
       "      <td>0.289</td>\n",
       "      <td>0.553</td>\n",
       "      <td>0.209</td>\n",
       "      <td>0.066</td>\n",
       "      <td>0.210</td>\n",
       "      <td>0.111</td>\n",
       "    </tr>\n",
       "    <tr>\n",
       "      <th>152</th>\n",
       "      <td>153</td>\n",
       "      <td>Afghanistan</td>\n",
       "      <td>2.567</td>\n",
       "      <td>0.301</td>\n",
       "      <td>0.356</td>\n",
       "      <td>0.266</td>\n",
       "      <td>0.000</td>\n",
       "      <td>0.135</td>\n",
       "      <td>0.001</td>\n",
       "    </tr>\n",
       "  </tbody>\n",
       "</table>\n",
       "<p>153 rows × 9 columns</p>\n",
       "</div>"
      ],
      "text/plain": [
       "     Overall rank                   Country  Score  GDP per capita  \\\n",
       "0               1                   Finland  7.809           1.285   \n",
       "1               2                   Denmark  7.646           1.327   \n",
       "2               3               Switzerland  7.560           1.391   \n",
       "3               4                   Iceland  7.504           1.327   \n",
       "4               5                    Norway  7.488           1.424   \n",
       "..            ...                       ...    ...             ...   \n",
       "148           149  Central African Republic  3.476           0.041   \n",
       "149           150                    Rwanda  3.312           0.343   \n",
       "150           151                  Zimbabwe  3.299           0.426   \n",
       "151           152               South Sudan  2.817           0.289   \n",
       "152           153               Afghanistan  2.567           0.301   \n",
       "\n",
       "     Social support  Healthy life expectancy  Freedom to make life choices  \\\n",
       "0             1.500                    0.961                         0.662   \n",
       "1             1.503                    0.979                         0.665   \n",
       "2             1.472                    1.041                         0.629   \n",
       "3             1.548                    1.001                         0.662   \n",
       "4             1.495                    1.008                         0.670   \n",
       "..              ...                      ...                           ...   \n",
       "148           0.000                    0.000                         0.293   \n",
       "149           0.523                    0.572                         0.604   \n",
       "150           1.048                    0.375                         0.377   \n",
       "151           0.553                    0.209                         0.066   \n",
       "152           0.356                    0.266                         0.000   \n",
       "\n",
       "     Generosity  Perceptions of corruption  \n",
       "0         0.160                      0.478  \n",
       "1         0.243                      0.495  \n",
       "2         0.269                      0.408  \n",
       "3         0.362                      0.145  \n",
       "4         0.288                      0.434  \n",
       "..          ...                        ...  \n",
       "148       0.254                      0.028  \n",
       "149       0.236                      0.486  \n",
       "150       0.151                      0.081  \n",
       "151       0.210                      0.111  \n",
       "152       0.135                      0.001  \n",
       "\n",
       "[153 rows x 9 columns]"
      ]
     },
     "execution_count": 14,
     "metadata": {},
     "output_type": "execute_result"
    }
   ],
   "source": [
    "# Rename kolom 'Country or region' menjadi 'Country'\n",
    "whr_df.rename(columns={'Country or region':'Country'}, inplace=True)\n",
    "whr_df"
   ]
  },
  {
   "cell_type": "markdown",
   "metadata": {},
   "source": [
    "### Convert to Dataframe"
   ]
  },
  {
   "cell_type": "code",
   "execution_count": 15,
   "metadata": {},
   "outputs": [],
   "source": [
    "whr_df.to_csv('world_happiness_report.csv', index=False)"
   ]
  },
  {
   "cell_type": "markdown",
   "metadata": {},
   "source": [
    "## Merge Dataframe"
   ]
  },
  {
   "cell_type": "code",
   "execution_count": 16,
   "metadata": {},
   "outputs": [
    {
     "name": "stdout",
     "output_type": "stream",
     "text": [
      "<class 'pandas.core.frame.DataFrame'>\n",
      "Int64Index: 148 entries, 0 to 147\n",
      "Data columns (total 10 columns):\n",
      " #   Column                        Non-Null Count  Dtype  \n",
      "---  ------                        --------------  -----  \n",
      " 0   Overall rank                  148 non-null    int64  \n",
      " 1   Country                       148 non-null    object \n",
      " 2   Score                         148 non-null    float64\n",
      " 3   GDP per capita                148 non-null    float64\n",
      " 4   Social support                148 non-null    float64\n",
      " 5   Healthy life expectancy       148 non-null    float64\n",
      " 6   Freedom to make life choices  148 non-null    float64\n",
      " 7   Generosity                    148 non-null    float64\n",
      " 8   Perceptions of corruption     148 non-null    float64\n",
      " 9   Continent                     148 non-null    object \n",
      "dtypes: float64(7), int64(1), object(2)\n",
      "memory usage: 12.7+ KB\n"
     ]
    }
   ],
   "source": [
    "df = pd.merge(whr_df, df_country, on='Country', how='inner')\n",
    "df.info()"
   ]
  },
  {
   "cell_type": "code",
   "execution_count": 17,
   "metadata": {},
   "outputs": [],
   "source": [
    "df.to_csv('final_dataset.csv', index=False)"
   ]
  },
  {
   "cell_type": "markdown",
   "metadata": {},
   "source": [
    "## Data Analysis"
   ]
  },
  {
   "cell_type": "code",
   "execution_count": 18,
   "metadata": {},
   "outputs": [
    {
     "data": {
      "text/html": [
       "<div>\n",
       "<style scoped>\n",
       "    .dataframe tbody tr th:only-of-type {\n",
       "        vertical-align: middle;\n",
       "    }\n",
       "\n",
       "    .dataframe tbody tr th {\n",
       "        vertical-align: top;\n",
       "    }\n",
       "\n",
       "    .dataframe thead th {\n",
       "        text-align: right;\n",
       "    }\n",
       "</style>\n",
       "<table border=\"1\" class=\"dataframe\">\n",
       "  <thead>\n",
       "    <tr style=\"text-align: right;\">\n",
       "      <th></th>\n",
       "      <th>Overall rank</th>\n",
       "      <th>Country</th>\n",
       "      <th>Score</th>\n",
       "      <th>GDP per capita</th>\n",
       "      <th>Social support</th>\n",
       "      <th>Healthy life expectancy</th>\n",
       "      <th>Freedom to make life choices</th>\n",
       "      <th>Generosity</th>\n",
       "      <th>Perceptions of corruption</th>\n",
       "      <th>Continent</th>\n",
       "    </tr>\n",
       "  </thead>\n",
       "  <tbody>\n",
       "    <tr>\n",
       "      <th>0</th>\n",
       "      <td>1</td>\n",
       "      <td>Finland</td>\n",
       "      <td>7.809</td>\n",
       "      <td>1.285</td>\n",
       "      <td>1.500</td>\n",
       "      <td>0.961</td>\n",
       "      <td>0.662</td>\n",
       "      <td>0.160</td>\n",
       "      <td>0.478</td>\n",
       "      <td>Europe</td>\n",
       "    </tr>\n",
       "    <tr>\n",
       "      <th>1</th>\n",
       "      <td>2</td>\n",
       "      <td>Denmark</td>\n",
       "      <td>7.646</td>\n",
       "      <td>1.327</td>\n",
       "      <td>1.503</td>\n",
       "      <td>0.979</td>\n",
       "      <td>0.665</td>\n",
       "      <td>0.243</td>\n",
       "      <td>0.495</td>\n",
       "      <td>Europe</td>\n",
       "    </tr>\n",
       "    <tr>\n",
       "      <th>2</th>\n",
       "      <td>3</td>\n",
       "      <td>Switzerland</td>\n",
       "      <td>7.560</td>\n",
       "      <td>1.391</td>\n",
       "      <td>1.472</td>\n",
       "      <td>1.041</td>\n",
       "      <td>0.629</td>\n",
       "      <td>0.269</td>\n",
       "      <td>0.408</td>\n",
       "      <td>Europe</td>\n",
       "    </tr>\n",
       "    <tr>\n",
       "      <th>3</th>\n",
       "      <td>4</td>\n",
       "      <td>Iceland</td>\n",
       "      <td>7.504</td>\n",
       "      <td>1.327</td>\n",
       "      <td>1.548</td>\n",
       "      <td>1.001</td>\n",
       "      <td>0.662</td>\n",
       "      <td>0.362</td>\n",
       "      <td>0.145</td>\n",
       "      <td>Europe</td>\n",
       "    </tr>\n",
       "    <tr>\n",
       "      <th>4</th>\n",
       "      <td>5</td>\n",
       "      <td>Norway</td>\n",
       "      <td>7.488</td>\n",
       "      <td>1.424</td>\n",
       "      <td>1.495</td>\n",
       "      <td>1.008</td>\n",
       "      <td>0.670</td>\n",
       "      <td>0.288</td>\n",
       "      <td>0.434</td>\n",
       "      <td>Europe</td>\n",
       "    </tr>\n",
       "  </tbody>\n",
       "</table>\n",
       "</div>"
      ],
      "text/plain": [
       "   Overall rank      Country  Score  GDP per capita  Social support  \\\n",
       "0             1      Finland  7.809           1.285           1.500   \n",
       "1             2      Denmark  7.646           1.327           1.503   \n",
       "2             3  Switzerland  7.560           1.391           1.472   \n",
       "3             4      Iceland  7.504           1.327           1.548   \n",
       "4             5       Norway  7.488           1.424           1.495   \n",
       "\n",
       "   Healthy life expectancy  Freedom to make life choices  Generosity  \\\n",
       "0                    0.961                         0.662       0.160   \n",
       "1                    0.979                         0.665       0.243   \n",
       "2                    1.041                         0.629       0.269   \n",
       "3                    1.001                         0.662       0.362   \n",
       "4                    1.008                         0.670       0.288   \n",
       "\n",
       "   Perceptions of corruption Continent  \n",
       "0                      0.478    Europe  \n",
       "1                      0.495    Europe  \n",
       "2                      0.408    Europe  \n",
       "3                      0.145    Europe  \n",
       "4                      0.434    Europe  "
      ]
     },
     "execution_count": 18,
     "metadata": {},
     "output_type": "execute_result"
    }
   ],
   "source": [
    "df = pd.read_csv('final_dataset.csv')\n",
    "df.head()"
   ]
  },
  {
   "cell_type": "code",
   "execution_count": 19,
   "metadata": {},
   "outputs": [
    {
     "data": {
      "text/html": [
       "<div>\n",
       "<style scoped>\n",
       "    .dataframe tbody tr th:only-of-type {\n",
       "        vertical-align: middle;\n",
       "    }\n",
       "\n",
       "    .dataframe tbody tr th {\n",
       "        vertical-align: top;\n",
       "    }\n",
       "\n",
       "    .dataframe thead th {\n",
       "        text-align: right;\n",
       "    }\n",
       "</style>\n",
       "<table border=\"1\" class=\"dataframe\">\n",
       "  <thead>\n",
       "    <tr style=\"text-align: right;\">\n",
       "      <th></th>\n",
       "      <th>Overall rank</th>\n",
       "      <th>Country</th>\n",
       "      <th>Score</th>\n",
       "      <th>GDP per capita</th>\n",
       "      <th>Social support</th>\n",
       "      <th>Healthy life expectancy</th>\n",
       "      <th>Freedom to make life choices</th>\n",
       "      <th>Generosity</th>\n",
       "      <th>Perceptions of corruption</th>\n",
       "      <th>Continent</th>\n",
       "    </tr>\n",
       "  </thead>\n",
       "  <tbody>\n",
       "    <tr>\n",
       "      <th>12</th>\n",
       "      <td>12</td>\n",
       "      <td>Australia</td>\n",
       "      <td>7.223</td>\n",
       "      <td>1.31</td>\n",
       "      <td>1.477</td>\n",
       "      <td>1.023</td>\n",
       "      <td>0.622</td>\n",
       "      <td>0.325</td>\n",
       "      <td>0.336</td>\n",
       "      <td>Other websites</td>\n",
       "    </tr>\n",
       "  </tbody>\n",
       "</table>\n",
       "</div>"
      ],
      "text/plain": [
       "    Overall rank    Country  Score  GDP per capita  Social support  \\\n",
       "12            12  Australia  7.223            1.31           1.477   \n",
       "\n",
       "    Healthy life expectancy  Freedom to make life choices  Generosity  \\\n",
       "12                    1.023                         0.622       0.325   \n",
       "\n",
       "    Perceptions of corruption       Continent  \n",
       "12                      0.336  Other websites  "
      ]
     },
     "execution_count": 19,
     "metadata": {},
     "output_type": "execute_result"
    }
   ],
   "source": [
    "df[df['Continent'] == 'Other websites']"
   ]
  },
  {
   "cell_type": "code",
   "execution_count": 20,
   "metadata": {},
   "outputs": [
    {
     "data": {
      "text/html": [
       "<div>\n",
       "<style scoped>\n",
       "    .dataframe tbody tr th:only-of-type {\n",
       "        vertical-align: middle;\n",
       "    }\n",
       "\n",
       "    .dataframe tbody tr th {\n",
       "        vertical-align: top;\n",
       "    }\n",
       "\n",
       "    .dataframe thead th {\n",
       "        text-align: right;\n",
       "    }\n",
       "</style>\n",
       "<table border=\"1\" class=\"dataframe\">\n",
       "  <thead>\n",
       "    <tr style=\"text-align: right;\">\n",
       "      <th></th>\n",
       "      <th>Overall rank</th>\n",
       "      <th>Country</th>\n",
       "      <th>Score</th>\n",
       "      <th>GDP per capita</th>\n",
       "      <th>Social support</th>\n",
       "      <th>Healthy life expectancy</th>\n",
       "      <th>Freedom to make life choices</th>\n",
       "      <th>Generosity</th>\n",
       "      <th>Perceptions of corruption</th>\n",
       "      <th>Continent</th>\n",
       "    </tr>\n",
       "  </thead>\n",
       "  <tbody>\n",
       "    <tr>\n",
       "      <th>11</th>\n",
       "      <td>12</td>\n",
       "      <td>Australia</td>\n",
       "      <td>7.223</td>\n",
       "      <td>1.31</td>\n",
       "      <td>1.477</td>\n",
       "      <td>1.023</td>\n",
       "      <td>0.622</td>\n",
       "      <td>0.325</td>\n",
       "      <td>0.336</td>\n",
       "      <td>Oceania</td>\n",
       "    </tr>\n",
       "    <tr>\n",
       "      <th>12</th>\n",
       "      <td>12</td>\n",
       "      <td>Australia</td>\n",
       "      <td>7.223</td>\n",
       "      <td>1.31</td>\n",
       "      <td>1.477</td>\n",
       "      <td>1.023</td>\n",
       "      <td>0.622</td>\n",
       "      <td>0.325</td>\n",
       "      <td>0.336</td>\n",
       "      <td>Oceania</td>\n",
       "    </tr>\n",
       "  </tbody>\n",
       "</table>\n",
       "</div>"
      ],
      "text/plain": [
       "    Overall rank    Country  Score  GDP per capita  Social support  \\\n",
       "11            12  Australia  7.223            1.31           1.477   \n",
       "12            12  Australia  7.223            1.31           1.477   \n",
       "\n",
       "    Healthy life expectancy  Freedom to make life choices  Generosity  \\\n",
       "11                    1.023                         0.622       0.325   \n",
       "12                    1.023                         0.622       0.325   \n",
       "\n",
       "    Perceptions of corruption Continent  \n",
       "11                      0.336   Oceania  \n",
       "12                      0.336   Oceania  "
      ]
     },
     "execution_count": 20,
     "metadata": {},
     "output_type": "execute_result"
    }
   ],
   "source": [
    "df[df['Continent'] == 'Other websites'] = df[df['Continent'] == 'Other websites'].replace('Other websites', 'Oceania')\n",
    "df[df['Country'] == 'Australia']"
   ]
  },
  {
   "cell_type": "code",
   "execution_count": 21,
   "metadata": {},
   "outputs": [
    {
     "data": {
      "text/plain": [
       "Georgia                2\n",
       "Australia              2\n",
       "Russia                 2\n",
       "Turkey                 2\n",
       "Algeria                1\n",
       "                      ..\n",
       "Cyprus                 1\n",
       "Colombia               1\n",
       "Poland                 1\n",
       "Trinidad and Tobago    1\n",
       "Afghanistan            1\n",
       "Name: Country, Length: 144, dtype: int64"
      ]
     },
     "execution_count": 21,
     "metadata": {},
     "output_type": "execute_result"
    }
   ],
   "source": [
    "df['Country'].value_counts()"
   ]
  },
  {
   "cell_type": "code",
   "execution_count": 22,
   "metadata": {},
   "outputs": [
    {
     "data": {
      "text/html": [
       "<div>\n",
       "<style scoped>\n",
       "    .dataframe tbody tr th:only-of-type {\n",
       "        vertical-align: middle;\n",
       "    }\n",
       "\n",
       "    .dataframe tbody tr th {\n",
       "        vertical-align: top;\n",
       "    }\n",
       "\n",
       "    .dataframe thead th {\n",
       "        text-align: right;\n",
       "    }\n",
       "</style>\n",
       "<table border=\"1\" class=\"dataframe\">\n",
       "  <thead>\n",
       "    <tr style=\"text-align: right;\">\n",
       "      <th></th>\n",
       "      <th>Continent</th>\n",
       "      <th>Score</th>\n",
       "      <th>GDP per capita</th>\n",
       "      <th>Social support</th>\n",
       "      <th>Healthy life expectancy</th>\n",
       "      <th>Freedom to make life choices</th>\n",
       "      <th>Generosity</th>\n",
       "      <th>Perceptions of corruption</th>\n",
       "    </tr>\n",
       "  </thead>\n",
       "  <tbody>\n",
       "    <tr>\n",
       "      <th>4</th>\n",
       "      <td>Oceania</td>\n",
       "      <td>7.248667</td>\n",
       "      <td>1.287333</td>\n",
       "      <td>1.480333</td>\n",
       "      <td>1.018000</td>\n",
       "      <td>0.630333</td>\n",
       "      <td>0.325333</td>\n",
       "      <td>0.377667</td>\n",
       "    </tr>\n",
       "    <tr>\n",
       "      <th>2</th>\n",
       "      <td>Europe</td>\n",
       "      <td>6.270024</td>\n",
       "      <td>1.157333</td>\n",
       "      <td>1.341262</td>\n",
       "      <td>0.887595</td>\n",
       "      <td>0.481476</td>\n",
       "      <td>0.169714</td>\n",
       "      <td>0.153167</td>\n",
       "    </tr>\n",
       "    <tr>\n",
       "      <th>3</th>\n",
       "      <td>North America</td>\n",
       "      <td>6.114545</td>\n",
       "      <td>0.834000</td>\n",
       "      <td>1.234273</td>\n",
       "      <td>0.784727</td>\n",
       "      <td>0.543000</td>\n",
       "      <td>0.185909</td>\n",
       "      <td>0.124455</td>\n",
       "    </tr>\n",
       "    <tr>\n",
       "      <th>5</th>\n",
       "      <td>South America</td>\n",
       "      <td>5.962545</td>\n",
       "      <td>0.947273</td>\n",
       "      <td>1.319364</td>\n",
       "      <td>0.787182</td>\n",
       "      <td>0.508727</td>\n",
       "      <td>0.128818</td>\n",
       "      <td>0.072727</td>\n",
       "    </tr>\n",
       "    <tr>\n",
       "      <th>1</th>\n",
       "      <td>Asia</td>\n",
       "      <td>5.282833</td>\n",
       "      <td>0.912452</td>\n",
       "      <td>1.171071</td>\n",
       "      <td>0.719595</td>\n",
       "      <td>0.481929</td>\n",
       "      <td>0.205619</td>\n",
       "      <td>0.124024</td>\n",
       "    </tr>\n",
       "    <tr>\n",
       "      <th>0</th>\n",
       "      <td>Africa</td>\n",
       "      <td>4.392077</td>\n",
       "      <td>0.492769</td>\n",
       "      <td>0.869077</td>\n",
       "      <td>0.408026</td>\n",
       "      <td>0.380692</td>\n",
       "      <td>0.185000</td>\n",
       "      <td>0.104564</td>\n",
       "    </tr>\n",
       "  </tbody>\n",
       "</table>\n",
       "</div>"
      ],
      "text/plain": [
       "       Continent     Score  GDP per capita  Social support  \\\n",
       "4        Oceania  7.248667        1.287333        1.480333   \n",
       "2         Europe  6.270024        1.157333        1.341262   \n",
       "3  North America  6.114545        0.834000        1.234273   \n",
       "5  South America  5.962545        0.947273        1.319364   \n",
       "1           Asia  5.282833        0.912452        1.171071   \n",
       "0         Africa  4.392077        0.492769        0.869077   \n",
       "\n",
       "   Healthy life expectancy  Freedom to make life choices  Generosity  \\\n",
       "4                 1.018000                      0.630333    0.325333   \n",
       "2                 0.887595                      0.481476    0.169714   \n",
       "3                 0.784727                      0.543000    0.185909   \n",
       "5                 0.787182                      0.508727    0.128818   \n",
       "1                 0.719595                      0.481929    0.205619   \n",
       "0                 0.408026                      0.380692    0.185000   \n",
       "\n",
       "   Perceptions of corruption  \n",
       "4                   0.377667  \n",
       "2                   0.153167  \n",
       "3                   0.124455  \n",
       "5                   0.072727  \n",
       "1                   0.124024  \n",
       "0                   0.104564  "
      ]
     },
     "execution_count": 22,
     "metadata": {},
     "output_type": "execute_result"
    }
   ],
   "source": [
    "# Groupkan data berdasarkan continent\n",
    "df_happiness = df.groupby('Continent').mean().reset_index().sort_values(by='Score', ascending=False)\n",
    "df_happiness.drop(columns='Overall rank', inplace=True)\n",
    "df_happiness"
   ]
  },
  {
   "cell_type": "code",
   "execution_count": 23,
   "metadata": {},
   "outputs": [
    {
     "data": {
      "application/vnd.plotly.v1+json": {
       "config": {
        "plotlyServerURL": "https://plot.ly"
       },
       "data": [
        {
         "domain": {
          "x": [
           0,
           1
          ],
          "y": [
           0,
           1
          ]
         },
         "hovertemplate": "Continent=%{label}<br>Score=%{value}<extra></extra>",
         "labels": [
          "Oceania",
          "Europe",
          "North America",
          "South America",
          "Asia",
          "Africa"
         ],
         "legendgroup": "",
         "name": "",
         "showlegend": true,
         "type": "pie",
         "values": [
          7.248666666666666,
          6.27002380952381,
          6.114545454545455,
          5.962545454545454,
          5.2828333333333335,
          4.392076923076923
         ]
        }
       ],
       "layout": {
        "legend": {
         "tracegroupgap": 0
        },
        "template": {
         "data": {
          "bar": [
           {
            "error_x": {
             "color": "#2a3f5f"
            },
            "error_y": {
             "color": "#2a3f5f"
            },
            "marker": {
             "line": {
              "color": "#E5ECF6",
              "width": 0.5
             },
             "pattern": {
              "fillmode": "overlay",
              "size": 10,
              "solidity": 0.2
             }
            },
            "type": "bar"
           }
          ],
          "barpolar": [
           {
            "marker": {
             "line": {
              "color": "#E5ECF6",
              "width": 0.5
             },
             "pattern": {
              "fillmode": "overlay",
              "size": 10,
              "solidity": 0.2
             }
            },
            "type": "barpolar"
           }
          ],
          "carpet": [
           {
            "aaxis": {
             "endlinecolor": "#2a3f5f",
             "gridcolor": "white",
             "linecolor": "white",
             "minorgridcolor": "white",
             "startlinecolor": "#2a3f5f"
            },
            "baxis": {
             "endlinecolor": "#2a3f5f",
             "gridcolor": "white",
             "linecolor": "white",
             "minorgridcolor": "white",
             "startlinecolor": "#2a3f5f"
            },
            "type": "carpet"
           }
          ],
          "choropleth": [
           {
            "colorbar": {
             "outlinewidth": 0,
             "ticks": ""
            },
            "type": "choropleth"
           }
          ],
          "contour": [
           {
            "colorbar": {
             "outlinewidth": 0,
             "ticks": ""
            },
            "colorscale": [
             [
              0,
              "#0d0887"
             ],
             [
              0.1111111111111111,
              "#46039f"
             ],
             [
              0.2222222222222222,
              "#7201a8"
             ],
             [
              0.3333333333333333,
              "#9c179e"
             ],
             [
              0.4444444444444444,
              "#bd3786"
             ],
             [
              0.5555555555555556,
              "#d8576b"
             ],
             [
              0.6666666666666666,
              "#ed7953"
             ],
             [
              0.7777777777777778,
              "#fb9f3a"
             ],
             [
              0.8888888888888888,
              "#fdca26"
             ],
             [
              1,
              "#f0f921"
             ]
            ],
            "type": "contour"
           }
          ],
          "contourcarpet": [
           {
            "colorbar": {
             "outlinewidth": 0,
             "ticks": ""
            },
            "type": "contourcarpet"
           }
          ],
          "heatmap": [
           {
            "colorbar": {
             "outlinewidth": 0,
             "ticks": ""
            },
            "colorscale": [
             [
              0,
              "#0d0887"
             ],
             [
              0.1111111111111111,
              "#46039f"
             ],
             [
              0.2222222222222222,
              "#7201a8"
             ],
             [
              0.3333333333333333,
              "#9c179e"
             ],
             [
              0.4444444444444444,
              "#bd3786"
             ],
             [
              0.5555555555555556,
              "#d8576b"
             ],
             [
              0.6666666666666666,
              "#ed7953"
             ],
             [
              0.7777777777777778,
              "#fb9f3a"
             ],
             [
              0.8888888888888888,
              "#fdca26"
             ],
             [
              1,
              "#f0f921"
             ]
            ],
            "type": "heatmap"
           }
          ],
          "heatmapgl": [
           {
            "colorbar": {
             "outlinewidth": 0,
             "ticks": ""
            },
            "colorscale": [
             [
              0,
              "#0d0887"
             ],
             [
              0.1111111111111111,
              "#46039f"
             ],
             [
              0.2222222222222222,
              "#7201a8"
             ],
             [
              0.3333333333333333,
              "#9c179e"
             ],
             [
              0.4444444444444444,
              "#bd3786"
             ],
             [
              0.5555555555555556,
              "#d8576b"
             ],
             [
              0.6666666666666666,
              "#ed7953"
             ],
             [
              0.7777777777777778,
              "#fb9f3a"
             ],
             [
              0.8888888888888888,
              "#fdca26"
             ],
             [
              1,
              "#f0f921"
             ]
            ],
            "type": "heatmapgl"
           }
          ],
          "histogram": [
           {
            "marker": {
             "pattern": {
              "fillmode": "overlay",
              "size": 10,
              "solidity": 0.2
             }
            },
            "type": "histogram"
           }
          ],
          "histogram2d": [
           {
            "colorbar": {
             "outlinewidth": 0,
             "ticks": ""
            },
            "colorscale": [
             [
              0,
              "#0d0887"
             ],
             [
              0.1111111111111111,
              "#46039f"
             ],
             [
              0.2222222222222222,
              "#7201a8"
             ],
             [
              0.3333333333333333,
              "#9c179e"
             ],
             [
              0.4444444444444444,
              "#bd3786"
             ],
             [
              0.5555555555555556,
              "#d8576b"
             ],
             [
              0.6666666666666666,
              "#ed7953"
             ],
             [
              0.7777777777777778,
              "#fb9f3a"
             ],
             [
              0.8888888888888888,
              "#fdca26"
             ],
             [
              1,
              "#f0f921"
             ]
            ],
            "type": "histogram2d"
           }
          ],
          "histogram2dcontour": [
           {
            "colorbar": {
             "outlinewidth": 0,
             "ticks": ""
            },
            "colorscale": [
             [
              0,
              "#0d0887"
             ],
             [
              0.1111111111111111,
              "#46039f"
             ],
             [
              0.2222222222222222,
              "#7201a8"
             ],
             [
              0.3333333333333333,
              "#9c179e"
             ],
             [
              0.4444444444444444,
              "#bd3786"
             ],
             [
              0.5555555555555556,
              "#d8576b"
             ],
             [
              0.6666666666666666,
              "#ed7953"
             ],
             [
              0.7777777777777778,
              "#fb9f3a"
             ],
             [
              0.8888888888888888,
              "#fdca26"
             ],
             [
              1,
              "#f0f921"
             ]
            ],
            "type": "histogram2dcontour"
           }
          ],
          "mesh3d": [
           {
            "colorbar": {
             "outlinewidth": 0,
             "ticks": ""
            },
            "type": "mesh3d"
           }
          ],
          "parcoords": [
           {
            "line": {
             "colorbar": {
              "outlinewidth": 0,
              "ticks": ""
             }
            },
            "type": "parcoords"
           }
          ],
          "pie": [
           {
            "automargin": true,
            "type": "pie"
           }
          ],
          "scatter": [
           {
            "fillpattern": {
             "fillmode": "overlay",
             "size": 10,
             "solidity": 0.2
            },
            "type": "scatter"
           }
          ],
          "scatter3d": [
           {
            "line": {
             "colorbar": {
              "outlinewidth": 0,
              "ticks": ""
             }
            },
            "marker": {
             "colorbar": {
              "outlinewidth": 0,
              "ticks": ""
             }
            },
            "type": "scatter3d"
           }
          ],
          "scattercarpet": [
           {
            "marker": {
             "colorbar": {
              "outlinewidth": 0,
              "ticks": ""
             }
            },
            "type": "scattercarpet"
           }
          ],
          "scattergeo": [
           {
            "marker": {
             "colorbar": {
              "outlinewidth": 0,
              "ticks": ""
             }
            },
            "type": "scattergeo"
           }
          ],
          "scattergl": [
           {
            "marker": {
             "colorbar": {
              "outlinewidth": 0,
              "ticks": ""
             }
            },
            "type": "scattergl"
           }
          ],
          "scattermapbox": [
           {
            "marker": {
             "colorbar": {
              "outlinewidth": 0,
              "ticks": ""
             }
            },
            "type": "scattermapbox"
           }
          ],
          "scatterpolar": [
           {
            "marker": {
             "colorbar": {
              "outlinewidth": 0,
              "ticks": ""
             }
            },
            "type": "scatterpolar"
           }
          ],
          "scatterpolargl": [
           {
            "marker": {
             "colorbar": {
              "outlinewidth": 0,
              "ticks": ""
             }
            },
            "type": "scatterpolargl"
           }
          ],
          "scatterternary": [
           {
            "marker": {
             "colorbar": {
              "outlinewidth": 0,
              "ticks": ""
             }
            },
            "type": "scatterternary"
           }
          ],
          "surface": [
           {
            "colorbar": {
             "outlinewidth": 0,
             "ticks": ""
            },
            "colorscale": [
             [
              0,
              "#0d0887"
             ],
             [
              0.1111111111111111,
              "#46039f"
             ],
             [
              0.2222222222222222,
              "#7201a8"
             ],
             [
              0.3333333333333333,
              "#9c179e"
             ],
             [
              0.4444444444444444,
              "#bd3786"
             ],
             [
              0.5555555555555556,
              "#d8576b"
             ],
             [
              0.6666666666666666,
              "#ed7953"
             ],
             [
              0.7777777777777778,
              "#fb9f3a"
             ],
             [
              0.8888888888888888,
              "#fdca26"
             ],
             [
              1,
              "#f0f921"
             ]
            ],
            "type": "surface"
           }
          ],
          "table": [
           {
            "cells": {
             "fill": {
              "color": "#EBF0F8"
             },
             "line": {
              "color": "white"
             }
            },
            "header": {
             "fill": {
              "color": "#C8D4E3"
             },
             "line": {
              "color": "white"
             }
            },
            "type": "table"
           }
          ]
         },
         "layout": {
          "annotationdefaults": {
           "arrowcolor": "#2a3f5f",
           "arrowhead": 0,
           "arrowwidth": 1
          },
          "autotypenumbers": "strict",
          "coloraxis": {
           "colorbar": {
            "outlinewidth": 0,
            "ticks": ""
           }
          },
          "colorscale": {
           "diverging": [
            [
             0,
             "#8e0152"
            ],
            [
             0.1,
             "#c51b7d"
            ],
            [
             0.2,
             "#de77ae"
            ],
            [
             0.3,
             "#f1b6da"
            ],
            [
             0.4,
             "#fde0ef"
            ],
            [
             0.5,
             "#f7f7f7"
            ],
            [
             0.6,
             "#e6f5d0"
            ],
            [
             0.7,
             "#b8e186"
            ],
            [
             0.8,
             "#7fbc41"
            ],
            [
             0.9,
             "#4d9221"
            ],
            [
             1,
             "#276419"
            ]
           ],
           "sequential": [
            [
             0,
             "#0d0887"
            ],
            [
             0.1111111111111111,
             "#46039f"
            ],
            [
             0.2222222222222222,
             "#7201a8"
            ],
            [
             0.3333333333333333,
             "#9c179e"
            ],
            [
             0.4444444444444444,
             "#bd3786"
            ],
            [
             0.5555555555555556,
             "#d8576b"
            ],
            [
             0.6666666666666666,
             "#ed7953"
            ],
            [
             0.7777777777777778,
             "#fb9f3a"
            ],
            [
             0.8888888888888888,
             "#fdca26"
            ],
            [
             1,
             "#f0f921"
            ]
           ],
           "sequentialminus": [
            [
             0,
             "#0d0887"
            ],
            [
             0.1111111111111111,
             "#46039f"
            ],
            [
             0.2222222222222222,
             "#7201a8"
            ],
            [
             0.3333333333333333,
             "#9c179e"
            ],
            [
             0.4444444444444444,
             "#bd3786"
            ],
            [
             0.5555555555555556,
             "#d8576b"
            ],
            [
             0.6666666666666666,
             "#ed7953"
            ],
            [
             0.7777777777777778,
             "#fb9f3a"
            ],
            [
             0.8888888888888888,
             "#fdca26"
            ],
            [
             1,
             "#f0f921"
            ]
           ]
          },
          "colorway": [
           "#636efa",
           "#EF553B",
           "#00cc96",
           "#ab63fa",
           "#FFA15A",
           "#19d3f3",
           "#FF6692",
           "#B6E880",
           "#FF97FF",
           "#FECB52"
          ],
          "font": {
           "color": "#2a3f5f"
          },
          "geo": {
           "bgcolor": "white",
           "lakecolor": "white",
           "landcolor": "#E5ECF6",
           "showlakes": true,
           "showland": true,
           "subunitcolor": "white"
          },
          "hoverlabel": {
           "align": "left"
          },
          "hovermode": "closest",
          "mapbox": {
           "style": "light"
          },
          "paper_bgcolor": "white",
          "plot_bgcolor": "#E5ECF6",
          "polar": {
           "angularaxis": {
            "gridcolor": "white",
            "linecolor": "white",
            "ticks": ""
           },
           "bgcolor": "#E5ECF6",
           "radialaxis": {
            "gridcolor": "white",
            "linecolor": "white",
            "ticks": ""
           }
          },
          "scene": {
           "xaxis": {
            "backgroundcolor": "#E5ECF6",
            "gridcolor": "white",
            "gridwidth": 2,
            "linecolor": "white",
            "showbackground": true,
            "ticks": "",
            "zerolinecolor": "white"
           },
           "yaxis": {
            "backgroundcolor": "#E5ECF6",
            "gridcolor": "white",
            "gridwidth": 2,
            "linecolor": "white",
            "showbackground": true,
            "ticks": "",
            "zerolinecolor": "white"
           },
           "zaxis": {
            "backgroundcolor": "#E5ECF6",
            "gridcolor": "white",
            "gridwidth": 2,
            "linecolor": "white",
            "showbackground": true,
            "ticks": "",
            "zerolinecolor": "white"
           }
          },
          "shapedefaults": {
           "line": {
            "color": "#2a3f5f"
           }
          },
          "ternary": {
           "aaxis": {
            "gridcolor": "white",
            "linecolor": "white",
            "ticks": ""
           },
           "baxis": {
            "gridcolor": "white",
            "linecolor": "white",
            "ticks": ""
           },
           "bgcolor": "#E5ECF6",
           "caxis": {
            "gridcolor": "white",
            "linecolor": "white",
            "ticks": ""
           }
          },
          "title": {
           "x": 0.05
          },
          "xaxis": {
           "automargin": true,
           "gridcolor": "white",
           "linecolor": "white",
           "ticks": "",
           "title": {
            "standoff": 15
           },
           "zerolinecolor": "white",
           "zerolinewidth": 2
          },
          "yaxis": {
           "automargin": true,
           "gridcolor": "white",
           "linecolor": "white",
           "ticks": "",
           "title": {
            "standoff": 15
           },
           "zerolinecolor": "white",
           "zerolinewidth": 2
          }
         }
        },
        "title": {
         "text": "Percent score based on Continent"
        }
       }
      }
     },
     "metadata": {},
     "output_type": "display_data"
    }
   ],
   "source": [
    "# Membuat pie chart continent berdasarkan score\n",
    "fig = px.pie(df_happiness, values='Score', names='Continent', title='Percent score based on Continent')\n",
    "fig.show()"
   ]
  },
  {
   "cell_type": "code",
   "execution_count": 24,
   "metadata": {},
   "outputs": [
    {
     "data": {
      "application/vnd.plotly.v1+json": {
       "config": {
        "plotlyServerURL": "https://plot.ly"
       },
       "data": [
        {
         "colorscale": [
          [
           0,
           "#440154"
          ],
          [
           0.1111111111111111,
           "#482878"
          ],
          [
           0.2222222222222222,
           "#3e4989"
          ],
          [
           0.3333333333333333,
           "#31688e"
          ],
          [
           0.4444444444444444,
           "#26828e"
          ],
          [
           0.5555555555555556,
           "#1f9e89"
          ],
          [
           0.6666666666666666,
           "#35b779"
          ],
          [
           0.7777777777777778,
           "#6ece58"
          ],
          [
           0.8888888888888888,
           "#b5de2b"
          ],
          [
           1,
           "#fde725"
          ]
         ],
         "opacity": 1,
         "reversescale": false,
         "type": "heatmap",
         "x": [
          "Score",
          "GDP per capita",
          "Social support",
          "Healthy life expectancy",
          "Freedom to make life choices",
          "Generosity",
          "Perceptions of corruption"
         ],
         "y": [
          "Score",
          "GDP per capita",
          "Social support",
          "Healthy life expectancy",
          "Freedom to make life choices",
          "Generosity",
          "Perceptions of corruption"
         ],
         "z": [
          [
           1,
           0.9154414477135093,
           0.9624595713362005,
           0.970948476089701,
           0.9346743057607355,
           0.5277736039894017,
           0.7217409074981852
          ],
          [
           0.9154414477135093,
           1,
           0.9566564203379959,
           0.9697671052530525,
           0.8010490239192272,
           0.48490654990139603,
           0.6786140683964863
          ],
          [
           0.9624595713362005,
           0.9566564203379959,
           1,
           0.9883610193237934,
           0.8837237173212406,
           0.3850017557812534,
           0.592567871939556
          ],
          [
           0.970948476089701,
           0.9697671052530525,
           0.9883610193237934,
           1,
           0.8939047470520484,
           0.4587316055594463,
           0.6479272692900253
          ],
          [
           0.9346743057607355,
           0.8010490239192272,
           0.8837237173212406,
           0.8939047470520484,
           1,
           0.6352462611037077,
           0.740502986585357
          ],
          [
           0.5277736039894017,
           0.48490654990139603,
           0.3850017557812534,
           0.4587316055594463,
           0.6352462611037077,
           1,
           0.9501808438938062
          ],
          [
           0.7217409074981852,
           0.6786140683964863,
           0.592567871939556,
           0.6479272692900253,
           0.740502986585357,
           0.9501808438938062,
           1
          ]
         ]
        }
       ],
       "layout": {
        "template": {
         "data": {
          "bar": [
           {
            "error_x": {
             "color": "#2a3f5f"
            },
            "error_y": {
             "color": "#2a3f5f"
            },
            "marker": {
             "line": {
              "color": "#E5ECF6",
              "width": 0.5
             },
             "pattern": {
              "fillmode": "overlay",
              "size": 10,
              "solidity": 0.2
             }
            },
            "type": "bar"
           }
          ],
          "barpolar": [
           {
            "marker": {
             "line": {
              "color": "#E5ECF6",
              "width": 0.5
             },
             "pattern": {
              "fillmode": "overlay",
              "size": 10,
              "solidity": 0.2
             }
            },
            "type": "barpolar"
           }
          ],
          "carpet": [
           {
            "aaxis": {
             "endlinecolor": "#2a3f5f",
             "gridcolor": "white",
             "linecolor": "white",
             "minorgridcolor": "white",
             "startlinecolor": "#2a3f5f"
            },
            "baxis": {
             "endlinecolor": "#2a3f5f",
             "gridcolor": "white",
             "linecolor": "white",
             "minorgridcolor": "white",
             "startlinecolor": "#2a3f5f"
            },
            "type": "carpet"
           }
          ],
          "choropleth": [
           {
            "colorbar": {
             "outlinewidth": 0,
             "ticks": ""
            },
            "type": "choropleth"
           }
          ],
          "contour": [
           {
            "colorbar": {
             "outlinewidth": 0,
             "ticks": ""
            },
            "colorscale": [
             [
              0,
              "#0d0887"
             ],
             [
              0.1111111111111111,
              "#46039f"
             ],
             [
              0.2222222222222222,
              "#7201a8"
             ],
             [
              0.3333333333333333,
              "#9c179e"
             ],
             [
              0.4444444444444444,
              "#bd3786"
             ],
             [
              0.5555555555555556,
              "#d8576b"
             ],
             [
              0.6666666666666666,
              "#ed7953"
             ],
             [
              0.7777777777777778,
              "#fb9f3a"
             ],
             [
              0.8888888888888888,
              "#fdca26"
             ],
             [
              1,
              "#f0f921"
             ]
            ],
            "type": "contour"
           }
          ],
          "contourcarpet": [
           {
            "colorbar": {
             "outlinewidth": 0,
             "ticks": ""
            },
            "type": "contourcarpet"
           }
          ],
          "heatmap": [
           {
            "colorbar": {
             "outlinewidth": 0,
             "ticks": ""
            },
            "colorscale": [
             [
              0,
              "#0d0887"
             ],
             [
              0.1111111111111111,
              "#46039f"
             ],
             [
              0.2222222222222222,
              "#7201a8"
             ],
             [
              0.3333333333333333,
              "#9c179e"
             ],
             [
              0.4444444444444444,
              "#bd3786"
             ],
             [
              0.5555555555555556,
              "#d8576b"
             ],
             [
              0.6666666666666666,
              "#ed7953"
             ],
             [
              0.7777777777777778,
              "#fb9f3a"
             ],
             [
              0.8888888888888888,
              "#fdca26"
             ],
             [
              1,
              "#f0f921"
             ]
            ],
            "type": "heatmap"
           }
          ],
          "heatmapgl": [
           {
            "colorbar": {
             "outlinewidth": 0,
             "ticks": ""
            },
            "colorscale": [
             [
              0,
              "#0d0887"
             ],
             [
              0.1111111111111111,
              "#46039f"
             ],
             [
              0.2222222222222222,
              "#7201a8"
             ],
             [
              0.3333333333333333,
              "#9c179e"
             ],
             [
              0.4444444444444444,
              "#bd3786"
             ],
             [
              0.5555555555555556,
              "#d8576b"
             ],
             [
              0.6666666666666666,
              "#ed7953"
             ],
             [
              0.7777777777777778,
              "#fb9f3a"
             ],
             [
              0.8888888888888888,
              "#fdca26"
             ],
             [
              1,
              "#f0f921"
             ]
            ],
            "type": "heatmapgl"
           }
          ],
          "histogram": [
           {
            "marker": {
             "pattern": {
              "fillmode": "overlay",
              "size": 10,
              "solidity": 0.2
             }
            },
            "type": "histogram"
           }
          ],
          "histogram2d": [
           {
            "colorbar": {
             "outlinewidth": 0,
             "ticks": ""
            },
            "colorscale": [
             [
              0,
              "#0d0887"
             ],
             [
              0.1111111111111111,
              "#46039f"
             ],
             [
              0.2222222222222222,
              "#7201a8"
             ],
             [
              0.3333333333333333,
              "#9c179e"
             ],
             [
              0.4444444444444444,
              "#bd3786"
             ],
             [
              0.5555555555555556,
              "#d8576b"
             ],
             [
              0.6666666666666666,
              "#ed7953"
             ],
             [
              0.7777777777777778,
              "#fb9f3a"
             ],
             [
              0.8888888888888888,
              "#fdca26"
             ],
             [
              1,
              "#f0f921"
             ]
            ],
            "type": "histogram2d"
           }
          ],
          "histogram2dcontour": [
           {
            "colorbar": {
             "outlinewidth": 0,
             "ticks": ""
            },
            "colorscale": [
             [
              0,
              "#0d0887"
             ],
             [
              0.1111111111111111,
              "#46039f"
             ],
             [
              0.2222222222222222,
              "#7201a8"
             ],
             [
              0.3333333333333333,
              "#9c179e"
             ],
             [
              0.4444444444444444,
              "#bd3786"
             ],
             [
              0.5555555555555556,
              "#d8576b"
             ],
             [
              0.6666666666666666,
              "#ed7953"
             ],
             [
              0.7777777777777778,
              "#fb9f3a"
             ],
             [
              0.8888888888888888,
              "#fdca26"
             ],
             [
              1,
              "#f0f921"
             ]
            ],
            "type": "histogram2dcontour"
           }
          ],
          "mesh3d": [
           {
            "colorbar": {
             "outlinewidth": 0,
             "ticks": ""
            },
            "type": "mesh3d"
           }
          ],
          "parcoords": [
           {
            "line": {
             "colorbar": {
              "outlinewidth": 0,
              "ticks": ""
             }
            },
            "type": "parcoords"
           }
          ],
          "pie": [
           {
            "automargin": true,
            "type": "pie"
           }
          ],
          "scatter": [
           {
            "fillpattern": {
             "fillmode": "overlay",
             "size": 10,
             "solidity": 0.2
            },
            "type": "scatter"
           }
          ],
          "scatter3d": [
           {
            "line": {
             "colorbar": {
              "outlinewidth": 0,
              "ticks": ""
             }
            },
            "marker": {
             "colorbar": {
              "outlinewidth": 0,
              "ticks": ""
             }
            },
            "type": "scatter3d"
           }
          ],
          "scattercarpet": [
           {
            "marker": {
             "colorbar": {
              "outlinewidth": 0,
              "ticks": ""
             }
            },
            "type": "scattercarpet"
           }
          ],
          "scattergeo": [
           {
            "marker": {
             "colorbar": {
              "outlinewidth": 0,
              "ticks": ""
             }
            },
            "type": "scattergeo"
           }
          ],
          "scattergl": [
           {
            "marker": {
             "colorbar": {
              "outlinewidth": 0,
              "ticks": ""
             }
            },
            "type": "scattergl"
           }
          ],
          "scattermapbox": [
           {
            "marker": {
             "colorbar": {
              "outlinewidth": 0,
              "ticks": ""
             }
            },
            "type": "scattermapbox"
           }
          ],
          "scatterpolar": [
           {
            "marker": {
             "colorbar": {
              "outlinewidth": 0,
              "ticks": ""
             }
            },
            "type": "scatterpolar"
           }
          ],
          "scatterpolargl": [
           {
            "marker": {
             "colorbar": {
              "outlinewidth": 0,
              "ticks": ""
             }
            },
            "type": "scatterpolargl"
           }
          ],
          "scatterternary": [
           {
            "marker": {
             "colorbar": {
              "outlinewidth": 0,
              "ticks": ""
             }
            },
            "type": "scatterternary"
           }
          ],
          "surface": [
           {
            "colorbar": {
             "outlinewidth": 0,
             "ticks": ""
            },
            "colorscale": [
             [
              0,
              "#0d0887"
             ],
             [
              0.1111111111111111,
              "#46039f"
             ],
             [
              0.2222222222222222,
              "#7201a8"
             ],
             [
              0.3333333333333333,
              "#9c179e"
             ],
             [
              0.4444444444444444,
              "#bd3786"
             ],
             [
              0.5555555555555556,
              "#d8576b"
             ],
             [
              0.6666666666666666,
              "#ed7953"
             ],
             [
              0.7777777777777778,
              "#fb9f3a"
             ],
             [
              0.8888888888888888,
              "#fdca26"
             ],
             [
              1,
              "#f0f921"
             ]
            ],
            "type": "surface"
           }
          ],
          "table": [
           {
            "cells": {
             "fill": {
              "color": "#EBF0F8"
             },
             "line": {
              "color": "white"
             }
            },
            "header": {
             "fill": {
              "color": "#C8D4E3"
             },
             "line": {
              "color": "white"
             }
            },
            "type": "table"
           }
          ]
         },
         "layout": {
          "annotationdefaults": {
           "arrowcolor": "#2a3f5f",
           "arrowhead": 0,
           "arrowwidth": 1
          },
          "autotypenumbers": "strict",
          "coloraxis": {
           "colorbar": {
            "outlinewidth": 0,
            "ticks": ""
           }
          },
          "colorscale": {
           "diverging": [
            [
             0,
             "#8e0152"
            ],
            [
             0.1,
             "#c51b7d"
            ],
            [
             0.2,
             "#de77ae"
            ],
            [
             0.3,
             "#f1b6da"
            ],
            [
             0.4,
             "#fde0ef"
            ],
            [
             0.5,
             "#f7f7f7"
            ],
            [
             0.6,
             "#e6f5d0"
            ],
            [
             0.7,
             "#b8e186"
            ],
            [
             0.8,
             "#7fbc41"
            ],
            [
             0.9,
             "#4d9221"
            ],
            [
             1,
             "#276419"
            ]
           ],
           "sequential": [
            [
             0,
             "#0d0887"
            ],
            [
             0.1111111111111111,
             "#46039f"
            ],
            [
             0.2222222222222222,
             "#7201a8"
            ],
            [
             0.3333333333333333,
             "#9c179e"
            ],
            [
             0.4444444444444444,
             "#bd3786"
            ],
            [
             0.5555555555555556,
             "#d8576b"
            ],
            [
             0.6666666666666666,
             "#ed7953"
            ],
            [
             0.7777777777777778,
             "#fb9f3a"
            ],
            [
             0.8888888888888888,
             "#fdca26"
            ],
            [
             1,
             "#f0f921"
            ]
           ],
           "sequentialminus": [
            [
             0,
             "#0d0887"
            ],
            [
             0.1111111111111111,
             "#46039f"
            ],
            [
             0.2222222222222222,
             "#7201a8"
            ],
            [
             0.3333333333333333,
             "#9c179e"
            ],
            [
             0.4444444444444444,
             "#bd3786"
            ],
            [
             0.5555555555555556,
             "#d8576b"
            ],
            [
             0.6666666666666666,
             "#ed7953"
            ],
            [
             0.7777777777777778,
             "#fb9f3a"
            ],
            [
             0.8888888888888888,
             "#fdca26"
            ],
            [
             1,
             "#f0f921"
            ]
           ]
          },
          "colorway": [
           "#636efa",
           "#EF553B",
           "#00cc96",
           "#ab63fa",
           "#FFA15A",
           "#19d3f3",
           "#FF6692",
           "#B6E880",
           "#FF97FF",
           "#FECB52"
          ],
          "font": {
           "color": "#2a3f5f"
          },
          "geo": {
           "bgcolor": "white",
           "lakecolor": "white",
           "landcolor": "#E5ECF6",
           "showlakes": true,
           "showland": true,
           "subunitcolor": "white"
          },
          "hoverlabel": {
           "align": "left"
          },
          "hovermode": "closest",
          "mapbox": {
           "style": "light"
          },
          "paper_bgcolor": "white",
          "plot_bgcolor": "#E5ECF6",
          "polar": {
           "angularaxis": {
            "gridcolor": "white",
            "linecolor": "white",
            "ticks": ""
           },
           "bgcolor": "#E5ECF6",
           "radialaxis": {
            "gridcolor": "white",
            "linecolor": "white",
            "ticks": ""
           }
          },
          "scene": {
           "xaxis": {
            "backgroundcolor": "#E5ECF6",
            "gridcolor": "white",
            "gridwidth": 2,
            "linecolor": "white",
            "showbackground": true,
            "ticks": "",
            "zerolinecolor": "white"
           },
           "yaxis": {
            "backgroundcolor": "#E5ECF6",
            "gridcolor": "white",
            "gridwidth": 2,
            "linecolor": "white",
            "showbackground": true,
            "ticks": "",
            "zerolinecolor": "white"
           },
           "zaxis": {
            "backgroundcolor": "#E5ECF6",
            "gridcolor": "white",
            "gridwidth": 2,
            "linecolor": "white",
            "showbackground": true,
            "ticks": "",
            "zerolinecolor": "white"
           }
          },
          "shapedefaults": {
           "line": {
            "color": "#2a3f5f"
           }
          },
          "ternary": {
           "aaxis": {
            "gridcolor": "white",
            "linecolor": "white",
            "ticks": ""
           },
           "baxis": {
            "gridcolor": "white",
            "linecolor": "white",
            "ticks": ""
           },
           "bgcolor": "#E5ECF6",
           "caxis": {
            "gridcolor": "white",
            "linecolor": "white",
            "ticks": ""
           }
          },
          "title": {
           "x": 0.05
          },
          "xaxis": {
           "automargin": true,
           "gridcolor": "white",
           "linecolor": "white",
           "ticks": "",
           "title": {
            "standoff": 15
           },
           "zerolinecolor": "white",
           "zerolinewidth": 2
          },
          "yaxis": {
           "automargin": true,
           "gridcolor": "white",
           "linecolor": "white",
           "ticks": "",
           "title": {
            "standoff": 15
           },
           "zerolinecolor": "white",
           "zerolinewidth": 2
          }
         }
        },
        "title": {
         "text": "Pearson Correlation of World Happiness Report Features"
        },
        "xaxis": {
         "nticks": 36,
         "ticks": ""
        },
        "yaxis": {
         "ticks": ""
        }
       }
      }
     },
     "metadata": {},
     "output_type": "display_data"
    }
   ],
   "source": [
    "# Membuat heatmap untuk melihat korelasi antar variabel terhadap score\n",
    "heatmap = go.Heatmap(\n",
    "    z = df_happiness.corr().values,\n",
    "    x = df_happiness.columns.values[1:],\n",
    "    y = df_happiness.columns.values[1:],\n",
    "    colorscale = 'Viridis',\n",
    "    reversescale = False,\n",
    "    opacity = 1.0\n",
    ")\n",
    "\n",
    "layout = go.Layout(\n",
    "    title = 'Pearson Correlation of World Happiness Report Features',\n",
    "    xaxis = dict(ticks='', nticks=36),\n",
    "    yaxis = dict(ticks=''),\n",
    ")\n",
    "\n",
    "fig = go.Figure(data=heatmap, layout=layout)\n",
    "fig.show()"
   ]
  },
  {
   "cell_type": "code",
   "execution_count": 25,
   "metadata": {},
   "outputs": [
    {
     "data": {
      "image/png": "[encoded data removed]",
      "text/plain": [
       "<Figure size 2000x1000 with 6 Axes>"
      ]
     },
     "metadata": {},
     "output_type": "display_data"
    }
   ],
   "source": [
    "# Scatterplot setiap feature dengan score\n",
    "fig, ax = plt.subplots(2, 3, figsize=(20, 10))\n",
    "\n",
    "columns = df.columns[3:9]\n",
    "\n",
    "for i, column in enumerate(columns):\n",
    "    sns.scatterplot(x=column, y='Score', data=df, ax=ax[i//3][i%3])\n",
    "    ax[i//3][i%3].set_title(f'Scatterplot {column} vs Score')\n",
    "\n",
    "plt.tight_layout()\n",
    "plt.show()"
   ]
  },
  {
   "cell_type": "code",
   "execution_count": 26,
   "metadata": {},
   "outputs": [
    {
     "data": {
      "image/png": "[encoded data removed]",
      "text/plain": [
       "<Figure size 2000x1000 with 6 Axes>"
      ]
     },
     "metadata": {},
     "output_type": "display_data"
    }
   ],
   "source": [
    "# Plot 3 negara di setiap benua dengan score tertinggi\n",
    "continent = df['Continent'].unique()\n",
    "\n",
    "fig, axes = plt.subplots(2, 3, figsize=(20, 10))\n",
    "plt.subplots_adjust(hspace=2)\n",
    "\n",
    "for i, ax in enumerate(axes.flat):\n",
    "    top_3_country = df[df['Continent'] == continent[i]].sort_values('Score', ascending=False)['Country'].head(3)\n",
    "    top_3_score = df[df['Continent'] == continent[i]].sort_values('Score', ascending=False)['Score'].head(3)\n",
    "    ax.bar(top_3_country, top_3_score)\n",
    "    \n",
    "    for txt, j in zip(ax.patches, top_3_score):\n",
    "        ax.text(txt.get_x() + txt.get_width()/2, txt.get_height()/2, round(j, 2), ha='center', va='center', color='white', fontsize=12)\n",
    "        \n",
    "    ax.set_title(continent[i])\n",
    "    ax.set_xlabel('Country')\n",
    "    ax.set_ylabel('Score')\n",
    "\n",
    "plt.tight_layout()\n",
    "plt.show()"
   ]
  },
  {
   "cell_type": "code",
   "execution_count": 27,
   "metadata": {},
   "outputs": [
    {
     "data": {
      "image/png": "[encoded data removed]",
      "text/plain": [
       "<Figure size 2000x1000 with 6 Axes>"
      ]
     },
     "metadata": {},
     "output_type": "display_data"
    }
   ],
   "source": [
    "# Plot 3 negara di setiap benua dengan score terendah\n",
    "continent = df['Continent'].unique()\n",
    "\n",
    "fig, axes = plt.subplots(2, 3, figsize=(20, 10))\n",
    "plt.subplots_adjust(hspace=2)\n",
    "\n",
    "for i, ax in enumerate(axes.flat):\n",
    "    bottom_3_country = df[df['Continent'] == continent[i]].sort_values('Score', ascending=True)['Country'].head(3)\n",
    "    bottom_3_score = df[df['Continent'] == continent[i]].sort_values('Score', ascending=True)['Score'].head(3)\n",
    "    ax.bar(bottom_3_country, bottom_3_score)\n",
    "    \n",
    "    for txt, j in zip(ax.patches, bottom_3_score):\n",
    "        ax.text(txt.get_x() + txt.get_width()/2, txt.get_height()/2, round(j, 2), ha='center', va='center', color='white', fontsize=12)\n",
    "        \n",
    "    ax.set_title(continent[i])\n",
    "    ax.set_xlabel('Country')\n",
    "    ax.set_ylabel('Score')\n",
    "\n",
    "plt.tight_layout()\n",
    "plt.show()"
   ]
  },
  {
   "cell_type": "code",
   "execution_count": 31,
   "metadata": {},
   "outputs": [
    {
     "data": {
      "image/png": "[encoded data removed]",
      "text/plain": [
       "<Figure size 1500x500 with 2 Axes>"
      ]
     },
     "metadata": {},
     "output_type": "display_data"
    }
   ],
   "source": [
    "# Plot 5 negara dengan nilai kebahagiaan tertinggi dan terendah\n",
    "top_country = df.sort_values(by='Score', ascending=False).head(5)\n",
    "bottom_country = df.sort_values(by='Score', ascending=True).head(5)\n",
    "\n",
    "fig, axes = plt.subplots(1, 2, figsize=(15, 5))\n",
    "\n",
    "axes[0].bar(top_country['Country'], top_country['Score'])\n",
    "axes[0].set_title('5 Country with best score', fontsize=20)\n",
    "axes[0].set_xlabel('Country', fontsize=15)\n",
    "axes[0].set_ylabel('Score', fontsize=15)\n",
    "\n",
    "axes[1].bar(bottom_country['Country'], bottom_country['Score'], color='red')\n",
    "axes[1].set_title('5 Country with worst score', fontsize=20)\n",
    "axes[1].set_xlabel('Country', fontsize=15)\n",
    "axes[1].set_ylabel('Score', fontsize=15)\n",
    "plt.show()"
   ]
  },
  {
   "cell_type": "code",
   "execution_count": 29,
   "metadata": {},
   "outputs": [
    {
     "data": {
      "application/vnd.plotly.v1+json": {
       "config": {
        "plotlyServerURL": "https://plot.ly"
       },
       "data": [
        {
         "cells": {
          "fill": {
           "color": "#EDFAFF"
          },
          "line": {
           "color": "#7D7F80"
          },
          "values": [
           [
            1,
            2,
            3,
            4,
            5,
            6,
            7,
            8,
            9,
            10,
            11,
            12,
            12,
            13,
            14,
            15,
            17,
            19,
            20,
            21,
            22,
            23,
            24,
            25,
            26,
            27,
            28,
            29,
            30,
            31,
            32,
            33,
            34,
            35,
            36,
            37,
            38,
            39,
            40,
            41,
            42,
            43,
            44,
            45,
            46,
            47,
            48,
            49,
            50,
            51,
            52,
            53,
            54,
            55,
            56,
            57,
            58,
            59,
            60,
            61,
            62,
            63,
            64,
            65,
            66,
            67,
            68,
            69,
            70,
            71,
            72,
            73,
            73,
            74,
            75,
            77,
            79,
            80,
            81,
            82,
            83,
            84,
            86,
            87,
            89,
            90,
            91,
            92,
            93,
            93,
            94,
            95,
            96,
            97,
            98,
            99,
            100,
            101,
            102,
            103,
            104,
            105,
            106,
            107,
            108,
            109,
            110,
            111,
            112,
            114,
            115,
            116,
            117,
            117,
            118,
            119,
            120,
            121,
            122,
            123,
            124,
            125,
            126,
            127,
            128,
            129,
            130,
            133,
            134,
            135,
            136,
            137,
            138,
            139,
            140,
            141,
            142,
            143,
            144,
            145,
            146,
            147,
            148,
            149,
            150,
            151,
            152,
            153
           ],
           [
            "Finland",
            "Denmark",
            "Switzerland",
            "Iceland",
            "Norway",
            "Netherlands",
            "Sweden",
            "New Zealand",
            "Austria",
            "Luxembourg",
            "Canada",
            "Australia",
            "Australia",
            "United Kingdom",
            "Israel",
            "Costa Rica",
            "Germany",
            "Czech Republic",
            "Belgium",
            "United Arab Emirates",
            "Malta",
            "France",
            "Mexico",
            "Taiwan",
            "Uruguay",
            "Saudi Arabia",
            "Spain",
            "Guatemala",
            "Italy",
            "Singapore",
            "Brazil",
            "Slovenia",
            "El Salvador",
            "Kosovo",
            "Panama",
            "Slovakia",
            "Uzbekistan",
            "Chile",
            "Bahrain",
            "Lithuania",
            "Trinidad and Tobago",
            "Poland",
            "Colombia",
            "Cyprus",
            "Nicaragua",
            "Romania",
            "Kuwait",
            "Mauritius",
            "Kazakhstan",
            "Estonia",
            "Philippines",
            "Hungary",
            "Thailand",
            "Argentina",
            "Honduras",
            "Latvia",
            "Ecuador",
            "Portugal",
            "Jamaica",
            "South Korea",
            "Japan",
            "Peru",
            "Serbia",
            "Bolivia",
            "Pakistan",
            "Paraguay",
            "Dominican Republic",
            "Bosnia and Herzegovina",
            "Moldova",
            "Tajikistan",
            "Montenegro",
            "Russia",
            "Russia",
            "Kyrgyzstan",
            "Belarus",
            "Greece",
            "Croatia",
            "Libya",
            "Mongolia",
            "Malaysia",
            "Vietnam",
            "Indonesia",
            "Benin",
            "Maldives",
            "Azerbaijan",
            "North Macedonia",
            "Ghana",
            "Nepal",
            "Turkey",
            "Turkey",
            "China",
            "Turkmenistan",
            "Bulgaria",
            "Morocco",
            "Cameroon",
            "Venezuela",
            "Algeria",
            "Senegal",
            "Guinea",
            "Niger",
            "Laos",
            "Albania",
            "Cambodia",
            "Bangladesh",
            "Gabon",
            "South Africa",
            "Iraq",
            "Lebanon",
            "Burkina Faso",
            "Mali",
            "Nigeria",
            "Armenia",
            "Georgia",
            "Georgia",
            "Iran",
            "Jordan",
            "Mozambique",
            "Kenya",
            "Namibia",
            "Ukraine",
            "Liberia",
            "Palestine",
            "Uganda",
            "Chad",
            "Tunisia",
            "Mauritania",
            "Sri Lanka",
            "Myanmar",
            "Comoros",
            "Togo",
            "Ethiopia",
            "Madagascar",
            "Egypt",
            "Sierra Leone",
            "Burundi",
            "Zambia",
            "Haiti",
            "Lesotho",
            "India",
            "Malawi",
            "Yemen",
            "Botswana",
            "Tanzania",
            "Central African Republic",
            "Rwanda",
            "Zimbabwe",
            "South Sudan",
            "Afghanistan"
           ],
           [
            7.809,
            7.646,
            7.56,
            7.504,
            7.488,
            7.449,
            7.353,
            7.3,
            7.294,
            7.238,
            7.232,
            7.223,
            7.223,
            7.165,
            7.129,
            7.121,
            7.076,
            6.911,
            6.864,
            6.791,
            6.773,
            6.664,
            6.465,
            6.455,
            6.44,
            6.406,
            6.401,
            6.399,
            6.387,
            6.377,
            6.376,
            6.363,
            6.348,
            6.325,
            6.305,
            6.281,
            6.258,
            6.228,
            6.227,
            6.215,
            6.192,
            6.186,
            6.163,
            6.159,
            6.137,
            6.124,
            6.102,
            6.101,
            6.058,
            6.022,
            6.006,
            6,
            5.999,
            5.975,
            5.953,
            5.95,
            5.925,
            5.911,
            5.89,
            5.872,
            5.871,
            5.797,
            5.778,
            5.747,
            5.693,
            5.692,
            5.689,
            5.674,
            5.608,
            5.556,
            5.546,
            5.546,
            5.546,
            5.542,
            5.54,
            5.515,
            5.505,
            5.489,
            5.456,
            5.384,
            5.353,
            5.286,
            5.216,
            5.198,
            5.165,
            5.16,
            5.148,
            5.137,
            5.132,
            5.132,
            5.124,
            5.119,
            5.102,
            5.095,
            5.085,
            5.053,
            5.005,
            4.981,
            4.949,
            4.91,
            4.889,
            4.883,
            4.848,
            4.833,
            4.829,
            4.814,
            4.785,
            4.772,
            4.769,
            4.729,
            4.724,
            4.677,
            4.673,
            4.673,
            4.672,
            4.633,
            4.624,
            4.583,
            4.571,
            4.561,
            4.558,
            4.553,
            4.432,
            4.423,
            4.392,
            4.375,
            4.327,
            4.308,
            4.289,
            4.187,
            4.186,
            4.166,
            4.151,
            3.926,
            3.775,
            3.759,
            3.721,
            3.653,
            3.573,
            3.538,
            3.527,
            3.479,
            3.476,
            3.476,
            3.312,
            3.299,
            2.817,
            2.567
           ],
           [
            1.285,
            1.327,
            1.391,
            1.327,
            1.424,
            1.339,
            1.322,
            1.242,
            1.317,
            1.537,
            1.302,
            1.31,
            1.31,
            1.273,
            1.216,
            0.981,
            1.314,
            1.212,
            1.296,
            1.431,
            1.253,
            1.268,
            1.024,
            1.327,
            1.071,
            1.334,
            1.231,
            0.754,
            1.236,
            1.52,
            0.953,
            1.209,
            0.749,
            0.84,
            1.098,
            1.195,
            0.697,
            1.097,
            1.297,
            1.194,
            1.168,
            1.169,
            0.932,
            1.213,
            0.62,
            1.12,
            1.425,
            1.074,
            1.123,
            1.192,
            0.775,
            1.164,
            1.007,
            1.028,
            0.599,
            1.141,
            0.853,
            1.169,
            0.779,
            1.245,
            1.267,
            0.919,
            0.988,
            0.731,
            0.617,
            0.898,
            0.983,
            0.918,
            0.708,
            0.475,
            1.01,
            1.127,
            1.127,
            0.513,
            1.019,
            1.128,
            1.109,
            1.022,
            0.905,
            1.168,
            0.718,
            0.892,
            0.366,
            0.938,
            0.99,
            0.935,
            0.576,
            0.444,
            1.127,
            1.127,
            0.991,
            1.009,
            1.047,
            0.759,
            0.504,
            0.77,
            0.944,
            0.504,
            0.39,
            0.108,
            0.715,
            0.907,
            0.545,
            0.556,
            0.988,
            0.902,
            0.982,
            0.889,
            0.302,
            0.352,
            0.646,
            0.808,
            0.847,
            0.847,
            1.029,
            0.785,
            0.179,
            0.476,
            0.84,
            0.78,
            0.174,
            0.588,
            0.312,
            0.302,
            0.875,
            0.54,
            0.898,
            0.678,
            0.416,
            0.268,
            0.315,
            0.245,
            0.875,
            0.241,
            0,
            0.537,
            0.285,
            0.455,
            0.731,
            0.177,
            0.393,
            0.998,
            0.457,
            0.041,
            0.343,
            0.426,
            0.289,
            0.301
           ],
           [
            1.5,
            1.503,
            1.472,
            1.548,
            1.495,
            1.464,
            1.433,
            1.487,
            1.437,
            1.388,
            1.435,
            1.477,
            1.477,
            1.458,
            1.403,
            1.375,
            1.369,
            1.405,
            1.399,
            1.251,
            1.443,
            1.459,
            1.226,
            1.358,
            1.425,
            1.31,
            1.421,
            1.174,
            1.347,
            1.395,
            1.363,
            1.465,
            1.149,
            1.184,
            1.376,
            1.424,
            1.434,
            1.323,
            1.315,
            1.433,
            1.407,
            1.31,
            1.334,
            1.149,
            1.271,
            1.194,
            1.245,
            1.396,
            1.453,
            1.453,
            1.245,
            1.423,
            1.348,
            1.373,
            1.187,
            1.414,
            1.221,
            1.34,
            1.408,
            1.134,
            1.332,
            1.208,
            1.327,
            1.142,
            0.873,
            1.368,
            1.329,
            1.204,
            1.237,
            1.218,
            1.266,
            1.379,
            1.379,
            1.341,
            1.387,
            1.169,
            1.311,
            1.196,
            1.459,
            1.174,
            1.253,
            1.155,
            0.352,
            1.402,
            1.181,
            1.183,
            0.966,
            1.101,
            1.197,
            1.197,
            1.132,
            1.51,
            1.461,
            0.645,
            0.9,
            1.349,
            1.143,
            0.955,
            0.751,
            0.704,
            0.987,
            0.83,
            1.071,
            0.869,
            1.106,
            1.259,
            1.011,
            1.192,
            0.929,
            0.973,
            0.987,
            1.035,
            0.731,
            0.731,
            0.886,
            1.14,
            0.955,
            0.905,
            1.246,
            1.321,
            0.921,
            1.195,
            1.052,
            0.739,
            0.872,
            1.113,
            1.195,
            1.098,
            0.723,
            0.548,
            1.001,
            0.824,
            0.983,
            0.748,
            0.404,
            0.896,
            0.647,
            1.089,
            0.644,
            0.53,
            1.177,
            1.086,
            0.873,
            0,
            0.523,
            1.048,
            0.553,
            0.356
           ],
           [
            0.961,
            0.979,
            1.041,
            1.001,
            1.008,
            0.976,
            0.986,
            1.008,
            1.001,
            0.986,
            1.023,
            1.023,
            1.023,
            0.976,
            1.008,
            0.94,
            0.972,
            0.895,
            0.965,
            0.788,
            0.972,
            1.03,
            0.832,
            0.878,
            0.857,
            0.76,
            1.051,
            0.706,
            1.023,
            1.138,
            0.766,
            0.933,
            0.753,
            0.673,
            0.879,
            0.853,
            0.717,
            0.889,
            0.839,
            0.795,
            0.659,
            0.868,
            0.81,
            1.026,
            0.803,
            0.792,
            0.776,
            0.763,
            0.699,
            0.843,
            0.602,
            0.807,
            0.794,
            0.85,
            0.792,
            0.778,
            0.839,
            0.979,
            0.788,
            1.023,
            1.073,
            0.824,
            0.828,
            0.662,
            0.47,
            0.736,
            0.742,
            0.814,
            0.713,
            0.681,
            0.839,
            0.68,
            0.68,
            0.681,
            0.753,
            0.979,
            0.901,
            0.616,
            0.616,
            0.789,
            0.819,
            0.61,
            0.328,
            0.914,
            0.731,
            0.803,
            0.432,
            0.669,
            0.781,
            0.781,
            0.867,
            0.612,
            0.778,
            0.745,
            0.27,
            0.767,
            0.745,
            0.518,
            0.334,
            0.299,
            0.486,
            0.846,
            0.588,
            0.695,
            0.523,
            0.407,
            0.529,
            0.789,
            0.313,
            0.235,
            0.168,
            0.776,
            0.695,
            0.695,
            0.749,
            0.778,
            0.324,
            0.536,
            0.407,
            0.699,
            0.392,
            0.614,
            0.378,
            0.109,
            0.781,
            0.425,
            0.792,
            0.495,
            0.437,
            0.343,
            0.484,
            0.501,
            0.597,
            0.204,
            0.295,
            0.364,
            0.374,
            0.101,
            0.541,
            0.446,
            0.415,
            0.494,
            0.443,
            0,
            0.572,
            0.375,
            0.209,
            0.266
           ],
           [
            0.662,
            0.665,
            0.629,
            0.662,
            0.67,
            0.614,
            0.65,
            0.647,
            0.603,
            0.61,
            0.644,
            0.622,
            0.622,
            0.525,
            0.421,
            0.645,
            0.564,
            0.506,
            0.5,
            0.653,
            0.633,
            0.514,
            0.554,
            0.449,
            0.594,
            0.548,
            0.426,
            0.613,
            0.321,
            0.635,
            0.483,
            0.647,
            0.524,
            0.557,
            0.58,
            0.424,
            0.693,
            0.417,
            0.61,
            0.42,
            0.553,
            0.558,
            0.527,
            0.459,
            0.56,
            0.535,
            0.57,
            0.591,
            0.497,
            0.577,
            0.622,
            0.386,
            0.609,
            0.521,
            0.568,
            0.329,
            0.555,
            0.59,
            0.553,
            0.259,
            0.495,
            0.513,
            0.395,
            0.574,
            0.405,
            0.587,
            0.563,
            0.305,
            0.39,
            0.521,
            0.303,
            0.399,
            0.399,
            0.615,
            0.291,
            0.174,
            0.381,
            0.451,
            0.356,
            0.597,
            0.651,
            0.568,
            0.406,
            0.548,
            0.468,
            0.41,
            0.477,
            0.481,
            0.254,
            0.254,
            0.602,
            0.515,
            0.418,
            0.45,
            0.439,
            0.272,
            0.084,
            0.352,
            0.372,
            0.435,
            0.612,
            0.462,
            0.675,
            0.604,
            0.369,
            0.435,
            0.284,
            0.186,
            0.322,
            0.378,
            0.435,
            0.378,
            0.485,
            0.485,
            0.301,
            0.425,
            0.561,
            0.519,
            0.445,
            0.319,
            0.406,
            0.299,
            0.402,
            0.229,
            0.236,
            0.186,
            0.529,
            0.597,
            0.181,
            0.304,
            0.413,
            0.193,
            0.374,
            0.382,
            0.275,
            0.491,
            0.169,
            0.409,
            0.581,
            0.487,
            0.244,
            0.509,
            0.509,
            0.293,
            0.604,
            0.377,
            0.066,
            0
           ],
           [
            0.16,
            0.243,
            0.269,
            0.362,
            0.288,
            0.336,
            0.273,
            0.326,
            0.256,
            0.196,
            0.282,
            0.325,
            0.325,
            0.373,
            0.267,
            0.131,
            0.252,
            0.046,
            0.147,
            0.281,
            0.341,
            0.113,
            0.083,
            0.151,
            0.132,
            0.087,
            0.165,
            0.171,
            0.17,
            0.219,
            0.132,
            0.146,
            0.119,
            0.325,
            0.097,
            0.117,
            0.363,
            0.156,
            0.287,
            0.054,
            0.199,
            0.063,
            0.092,
            0.228,
            0.213,
            0.068,
            0.133,
            0.187,
            0.154,
            0.125,
            0.129,
            0.07,
            0.377,
            0.07,
            0.257,
            0.075,
            0.115,
            0.053,
            0.116,
            0.17,
            0.036,
            0.092,
            0.15,
            0.138,
            0.229,
            0.204,
            0.112,
            0.264,
            0.174,
            0.182,
            0.149,
            0.099,
            0.099,
            0.301,
            0.09,
            0,
            0.114,
            0.143,
            0.264,
            0.275,
            0.136,
            0.543,
            0.197,
            0.224,
            0.04,
            0.186,
            0.261,
            0.301,
            0.086,
            0.086,
            0.079,
            0.323,
            0.104,
            0.04,
            0.198,
            0.087,
            0.119,
            0.164,
            0.249,
            0.208,
            0.273,
            0.171,
            0.233,
            0.177,
            0.052,
            0.126,
            0.153,
            0.159,
            0.186,
            0.17,
            0.221,
            0.107,
            0.048,
            0.048,
            0.277,
            0.091,
            0.22,
            0.394,
            0.076,
            0.179,
            0.227,
            0.092,
            0.265,
            0.211,
            0.056,
            0.129,
            0.253,
            0.57,
            0.259,
            0.201,
            0.228,
            0.191,
            0.069,
            0.258,
            0.187,
            0.251,
            0.464,
            0.103,
            0.237,
            0.213,
            0.095,
            0.033,
            0.272,
            0.254,
            0.236,
            0.151,
            0.21,
            0.135
           ],
           [
            0.478,
            0.495,
            0.408,
            0.145,
            0.434,
            0.369,
            0.442,
            0.461,
            0.281,
            0.367,
            0.352,
            0.336,
            0.336,
            0.323,
            0.1,
            0.096,
            0.309,
            0.05,
            0.209,
            0.22,
            0.179,
            0.227,
            0.083,
            0.132,
            0.193,
            0.163,
            0.11,
            0.098,
            0.04,
            0.533,
            0.107,
            0.077,
            0.117,
            0.009,
            0.054,
            0.011,
            0.28,
            0.063,
            0.127,
            0.081,
            0.015,
            0.161,
            0.046,
            0.051,
            0.174,
            0.001,
            0.113,
            0.084,
            0.11,
            0.202,
            0.13,
            0.028,
            0.032,
            0.06,
            0.087,
            0.09,
            0.087,
            0.028,
            0.03,
            0.095,
            0.181,
            0.027,
            0.059,
            0.073,
            0.123,
            0.065,
            0.116,
            0.001,
            0.014,
            0.222,
            0.098,
            0.046,
            0.046,
            0.03,
            0.194,
            0.049,
            0.012,
            0.172,
            0.047,
            0.062,
            0.09,
            0.038,
            0.126,
            0.072,
            0.247,
            0.025,
            0.057,
            0.128,
            0.121,
            0.121,
            0.117,
            0.034,
            0,
            0.077,
            0.054,
            0.064,
            0.129,
            0.082,
            0.112,
            0.138,
            0.194,
            0.025,
            0.073,
            0.177,
            0.056,
            0.06,
            0.073,
            0.022,
            0.126,
            0.062,
            0.048,
            0.105,
            0.174,
            0.174,
            0.143,
            0.152,
            0.163,
            0.067,
            0.054,
            0.01,
            0.051,
            0.072,
            0.064,
            0.086,
            0.044,
            0.122,
            0.049,
            0.188,
            0.1,
            0.115,
            0.117,
            0.076,
            0.095,
            0.048,
            0.212,
            0.087,
            0.162,
            0.05,
            0.106,
            0.132,
            0.087,
            0.102,
            0.204,
            0.028,
            0.486,
            0.081,
            0.111,
            0.001
           ],
           [
            "Europe",
            "Europe",
            "Europe",
            "Europe",
            "Europe",
            "Europe",
            "Europe",
            "Oceania",
            "Europe",
            "Europe",
            "North America",
            "Oceania",
            "Oceania",
            "Europe",
            "Asia",
            "North America",
            "Europe",
            "Europe",
            "Europe",
            "Asia",
            "Europe",
            "Europe",
            "North America",
            "Asia",
            "South America",
            "Asia",
            "Europe",
            "North America",
            "Europe",
            "Asia",
            "South America",
            "Europe",
            "North America",
            "Europe",
            "North America",
            "Europe",
            "Asia",
            "South America",
            "Asia",
            "Europe",
            "South America",
            "Europe",
            "South America",
            "Europe",
            "North America",
            "Europe",
            "Asia",
            "Africa",
            "Asia",
            "Europe",
            "Asia",
            "Europe",
            "Asia",
            "South America",
            "North America",
            "Europe",
            "South America",
            "Europe",
            "North America",
            "Asia",
            "Asia",
            "South America",
            "Europe",
            "South America",
            "Asia",
            "South America",
            "North America",
            "Europe",
            "Europe",
            "Asia",
            "Europe",
            "Asia",
            "Europe",
            "Asia",
            "Europe",
            "Europe",
            "Europe",
            "Africa",
            "Asia",
            "Asia",
            "Asia",
            "Asia",
            "Africa",
            "Asia",
            "Asia",
            "Europe",
            "Africa",
            "Asia",
            "Asia",
            "Europe",
            "Asia",
            "Asia",
            "Europe",
            "Africa",
            "Africa",
            "South America",
            "Africa",
            "Africa",
            "Africa",
            "Africa",
            "Asia",
            "Europe",
            "Asia",
            "Asia",
            "Africa",
            "Africa",
            "Asia",
            "Asia",
            "Africa",
            "Africa",
            "Africa",
            "Asia",
            "Asia",
            "Europe",
            "Asia",
            "Asia",
            "Africa",
            "Africa",
            "Africa",
            "Europe",
            "Africa",
            "Asia",
            "Africa",
            "Africa",
            "Africa",
            "Africa",
            "Asia",
            "Asia",
            "Africa",
            "Africa",
            "Africa",
            "Africa",
            "Africa",
            "Africa",
            "Africa",
            "Africa",
            "North America",
            "Africa",
            "Asia",
            "Africa",
            "Asia",
            "Africa",
            "Africa",
            "Africa",
            "Africa",
            "Africa",
            "Africa",
            "Asia"
           ]
          ]
         },
         "header": {
          "fill": {
           "color": "#a1c3d1"
          },
          "line": {
           "color": "#7D7F80"
          },
          "values": [
           "Overall rank",
           "Country",
           "Score",
           "GDP per capita",
           "Social support",
           "Healthy life expectancy",
           "Freedom to make life choices",
           "Generosity",
           "Perceptions of corruption",
           "Continent"
          ]
         },
         "type": "table"
        }
       ],
       "layout": {
        "template": {
         "data": {
          "bar": [
           {
            "error_x": {
             "color": "#2a3f5f"
            },
            "error_y": {
             "color": "#2a3f5f"
            },
            "marker": {
             "line": {
              "color": "#E5ECF6",
              "width": 0.5
             },
             "pattern": {
              "fillmode": "overlay",
              "size": 10,
              "solidity": 0.2
             }
            },
            "type": "bar"
           }
          ],
          "barpolar": [
           {
            "marker": {
             "line": {
              "color": "#E5ECF6",
              "width": 0.5
             },
             "pattern": {
              "fillmode": "overlay",
              "size": 10,
              "solidity": 0.2
             }
            },
            "type": "barpolar"
           }
          ],
          "carpet": [
           {
            "aaxis": {
             "endlinecolor": "#2a3f5f",
             "gridcolor": "white",
             "linecolor": "white",
             "minorgridcolor": "white",
             "startlinecolor": "#2a3f5f"
            },
            "baxis": {
             "endlinecolor": "#2a3f5f",
             "gridcolor": "white",
             "linecolor": "white",
             "minorgridcolor": "white",
             "startlinecolor": "#2a3f5f"
            },
            "type": "carpet"
           }
          ],
          "choropleth": [
           {
            "colorbar": {
             "outlinewidth": 0,
             "ticks": ""
            },
            "type": "choropleth"
           }
          ],
          "contour": [
           {
            "colorbar": {
             "outlinewidth": 0,
             "ticks": ""
            },
            "colorscale": [
             [
              0,
              "#0d0887"
             ],
             [
              0.1111111111111111,
              "#46039f"
             ],
             [
              0.2222222222222222,
              "#7201a8"
             ],
             [
              0.3333333333333333,
              "#9c179e"
             ],
             [
              0.4444444444444444,
              "#bd3786"
             ],
             [
              0.5555555555555556,
              "#d8576b"
             ],
             [
              0.6666666666666666,
              "#ed7953"
             ],
             [
              0.7777777777777778,
              "#fb9f3a"
             ],
             [
              0.8888888888888888,
              "#fdca26"
             ],
             [
              1,
              "#f0f921"
             ]
            ],
            "type": "contour"
           }
          ],
          "contourcarpet": [
           {
            "colorbar": {
             "outlinewidth": 0,
             "ticks": ""
            },
            "type": "contourcarpet"
           }
          ],
          "heatmap": [
           {
            "colorbar": {
             "outlinewidth": 0,
             "ticks": ""
            },
            "colorscale": [
             [
              0,
              "#0d0887"
             ],
             [
              0.1111111111111111,
              "#46039f"
             ],
             [
              0.2222222222222222,
              "#7201a8"
             ],
             [
              0.3333333333333333,
              "#9c179e"
             ],
             [
              0.4444444444444444,
              "#bd3786"
             ],
             [
              0.5555555555555556,
              "#d8576b"
             ],
             [
              0.6666666666666666,
              "#ed7953"
             ],
             [
              0.7777777777777778,
              "#fb9f3a"
             ],
             [
              0.8888888888888888,
              "#fdca26"
             ],
             [
              1,
              "#f0f921"
             ]
            ],
            "type": "heatmap"
           }
          ],
          "heatmapgl": [
           {
            "colorbar": {
             "outlinewidth": 0,
             "ticks": ""
            },
            "colorscale": [
             [
              0,
              "#0d0887"
             ],
             [
              0.1111111111111111,
              "#46039f"
             ],
             [
              0.2222222222222222,
              "#7201a8"
             ],
             [
              0.3333333333333333,
              "#9c179e"
             ],
             [
              0.4444444444444444,
              "#bd3786"
             ],
             [
              0.5555555555555556,
              "#d8576b"
             ],
             [
              0.6666666666666666,
              "#ed7953"
             ],
             [
              0.7777777777777778,
              "#fb9f3a"
             ],
             [
              0.8888888888888888,
              "#fdca26"
             ],
             [
              1,
              "#f0f921"
             ]
            ],
            "type": "heatmapgl"
           }
          ],
          "histogram": [
           {
            "marker": {
             "pattern": {
              "fillmode": "overlay",
              "size": 10,
              "solidity": 0.2
             }
            },
            "type": "histogram"
           }
          ],
          "histogram2d": [
           {
            "colorbar": {
             "outlinewidth": 0,
             "ticks": ""
            },
            "colorscale": [
             [
              0,
              "#0d0887"
             ],
             [
              0.1111111111111111,
              "#46039f"
             ],
             [
              0.2222222222222222,
              "#7201a8"
             ],
             [
              0.3333333333333333,
              "#9c179e"
             ],
             [
              0.4444444444444444,
              "#bd3786"
             ],
             [
              0.5555555555555556,
              "#d8576b"
             ],
             [
              0.6666666666666666,
              "#ed7953"
             ],
             [
              0.7777777777777778,
              "#fb9f3a"
             ],
             [
              0.8888888888888888,
              "#fdca26"
             ],
             [
              1,
              "#f0f921"
             ]
            ],
            "type": "histogram2d"
           }
          ],
          "histogram2dcontour": [
           {
            "colorbar": {
             "outlinewidth": 0,
             "ticks": ""
            },
            "colorscale": [
             [
              0,
              "#0d0887"
             ],
             [
              0.1111111111111111,
              "#46039f"
             ],
             [
              0.2222222222222222,
              "#7201a8"
             ],
             [
              0.3333333333333333,
              "#9c179e"
             ],
             [
              0.4444444444444444,
              "#bd3786"
             ],
             [
              0.5555555555555556,
              "#d8576b"
             ],
             [
              0.6666666666666666,
              "#ed7953"
             ],
             [
              0.7777777777777778,
              "#fb9f3a"
             ],
             [
              0.8888888888888888,
              "#fdca26"
             ],
             [
              1,
              "#f0f921"
             ]
            ],
            "type": "histogram2dcontour"
           }
          ],
          "mesh3d": [
           {
            "colorbar": {
             "outlinewidth": 0,
             "ticks": ""
            },
            "type": "mesh3d"
           }
          ],
          "parcoords": [
           {
            "line": {
             "colorbar": {
              "outlinewidth": 0,
              "ticks": ""
             }
            },
            "type": "parcoords"
           }
          ],
          "pie": [
           {
            "automargin": true,
            "type": "pie"
           }
          ],
          "scatter": [
           {
            "fillpattern": {
             "fillmode": "overlay",
             "size": 10,
             "solidity": 0.2
            },
            "type": "scatter"
           }
          ],
          "scatter3d": [
           {
            "line": {
             "colorbar": {
              "outlinewidth": 0,
              "ticks": ""
             }
            },
            "marker": {
             "colorbar": {
              "outlinewidth": 0,
              "ticks": ""
             }
            },
            "type": "scatter3d"
           }
          ],
          "scattercarpet": [
           {
            "marker": {
             "colorbar": {
              "outlinewidth": 0,
              "ticks": ""
             }
            },
            "type": "scattercarpet"
           }
          ],
          "scattergeo": [
           {
            "marker": {
             "colorbar": {
              "outlinewidth": 0,
              "ticks": ""
             }
            },
            "type": "scattergeo"
           }
          ],
          "scattergl": [
           {
            "marker": {
             "colorbar": {
              "outlinewidth": 0,
              "ticks": ""
             }
            },
            "type": "scattergl"
           }
          ],
          "scattermapbox": [
           {
            "marker": {
             "colorbar": {
              "outlinewidth": 0,
              "ticks": ""
             }
            },
            "type": "scattermapbox"
           }
          ],
          "scatterpolar": [
           {
            "marker": {
             "colorbar": {
              "outlinewidth": 0,
              "ticks": ""
             }
            },
            "type": "scatterpolar"
           }
          ],
          "scatterpolargl": [
           {
            "marker": {
             "colorbar": {
              "outlinewidth": 0,
              "ticks": ""
             }
            },
            "type": "scatterpolargl"
           }
          ],
          "scatterternary": [
           {
            "marker": {
             "colorbar": {
              "outlinewidth": 0,
              "ticks": ""
             }
            },
            "type": "scatterternary"
           }
          ],
          "surface": [
           {
            "colorbar": {
             "outlinewidth": 0,
             "ticks": ""
            },
            "colorscale": [
             [
              0,
              "#0d0887"
             ],
             [
              0.1111111111111111,
              "#46039f"
             ],
             [
              0.2222222222222222,
              "#7201a8"
             ],
             [
              0.3333333333333333,
              "#9c179e"
             ],
             [
              0.4444444444444444,
              "#bd3786"
             ],
             [
              0.5555555555555556,
              "#d8576b"
             ],
             [
              0.6666666666666666,
              "#ed7953"
             ],
             [
              0.7777777777777778,
              "#fb9f3a"
             ],
             [
              0.8888888888888888,
              "#fdca26"
             ],
             [
              1,
              "#f0f921"
             ]
            ],
            "type": "surface"
           }
          ],
          "table": [
           {
            "cells": {
             "fill": {
              "color": "#EBF0F8"
             },
             "line": {
              "color": "white"
             }
            },
            "header": {
             "fill": {
              "color": "#C8D4E3"
             },
             "line": {
              "color": "white"
             }
            },
            "type": "table"
           }
          ]
         },
         "layout": {
          "annotationdefaults": {
           "arrowcolor": "#2a3f5f",
           "arrowhead": 0,
           "arrowwidth": 1
          },
          "autotypenumbers": "strict",
          "coloraxis": {
           "colorbar": {
            "outlinewidth": 0,
            "ticks": ""
           }
          },
          "colorscale": {
           "diverging": [
            [
             0,
             "#8e0152"
            ],
            [
             0.1,
             "#c51b7d"
            ],
            [
             0.2,
             "#de77ae"
            ],
            [
             0.3,
             "#f1b6da"
            ],
            [
             0.4,
             "#fde0ef"
            ],
            [
             0.5,
             "#f7f7f7"
            ],
            [
             0.6,
             "#e6f5d0"
            ],
            [
             0.7,
             "#b8e186"
            ],
            [
             0.8,
             "#7fbc41"
            ],
            [
             0.9,
             "#4d9221"
            ],
            [
             1,
             "#276419"
            ]
           ],
           "sequential": [
            [
             0,
             "#0d0887"
            ],
            [
             0.1111111111111111,
             "#46039f"
            ],
            [
             0.2222222222222222,
             "#7201a8"
            ],
            [
             0.3333333333333333,
             "#9c179e"
            ],
            [
             0.4444444444444444,
             "#bd3786"
            ],
            [
             0.5555555555555556,
             "#d8576b"
            ],
            [
             0.6666666666666666,
             "#ed7953"
            ],
            [
             0.7777777777777778,
             "#fb9f3a"
            ],
            [
             0.8888888888888888,
             "#fdca26"
            ],
            [
             1,
             "#f0f921"
            ]
           ],
           "sequentialminus": [
            [
             0,
             "#0d0887"
            ],
            [
             0.1111111111111111,
             "#46039f"
            ],
            [
             0.2222222222222222,
             "#7201a8"
            ],
            [
             0.3333333333333333,
             "#9c179e"
            ],
            [
             0.4444444444444444,
             "#bd3786"
            ],
            [
             0.5555555555555556,
             "#d8576b"
            ],
            [
             0.6666666666666666,
             "#ed7953"
            ],
            [
             0.7777777777777778,
             "#fb9f3a"
            ],
            [
             0.8888888888888888,
             "#fdca26"
            ],
            [
             1,
             "#f0f921"
            ]
           ]
          },
          "colorway": [
           "#636efa",
           "#EF553B",
           "#00cc96",
           "#ab63fa",
           "#FFA15A",
           "#19d3f3",
           "#FF6692",
           "#B6E880",
           "#FF97FF",
           "#FECB52"
          ],
          "font": {
           "color": "#2a3f5f"
          },
          "geo": {
           "bgcolor": "white",
           "lakecolor": "white",
           "landcolor": "#E5ECF6",
           "showlakes": true,
           "showland": true,
           "subunitcolor": "white"
          },
          "hoverlabel": {
           "align": "left"
          },
          "hovermode": "closest",
          "mapbox": {
           "style": "light"
          },
          "paper_bgcolor": "white",
          "plot_bgcolor": "#E5ECF6",
          "polar": {
           "angularaxis": {
            "gridcolor": "white",
            "linecolor": "white",
            "ticks": ""
           },
           "bgcolor": "#E5ECF6",
           "radialaxis": {
            "gridcolor": "white",
            "linecolor": "white",
            "ticks": ""
           }
          },
          "scene": {
           "xaxis": {
            "backgroundcolor": "#E5ECF6",
            "gridcolor": "white",
            "gridwidth": 2,
            "linecolor": "white",
            "showbackground": true,
            "ticks": "",
            "zerolinecolor": "white"
           },
           "yaxis": {
            "backgroundcolor": "#E5ECF6",
            "gridcolor": "white",
            "gridwidth": 2,
            "linecolor": "white",
            "showbackground": true,
            "ticks": "",
            "zerolinecolor": "white"
           },
           "zaxis": {
            "backgroundcolor": "#E5ECF6",
            "gridcolor": "white",
            "gridwidth": 2,
            "linecolor": "white",
            "showbackground": true,
            "ticks": "",
            "zerolinecolor": "white"
           }
          },
          "shapedefaults": {
           "line": {
            "color": "#2a3f5f"
           }
          },
          "ternary": {
           "aaxis": {
            "gridcolor": "white",
            "linecolor": "white",
            "ticks": ""
           },
           "baxis": {
            "gridcolor": "white",
            "linecolor": "white",
            "ticks": ""
           },
           "bgcolor": "#E5ECF6",
           "caxis": {
            "gridcolor": "white",
            "linecolor": "white",
            "ticks": ""
           }
          },
          "title": {
           "x": 0.05
          },
          "xaxis": {
           "automargin": true,
           "gridcolor": "white",
           "linecolor": "white",
           "ticks": "",
           "title": {
            "standoff": 15
           },
           "zerolinecolor": "white",
           "zerolinewidth": 2
          },
          "yaxis": {
           "automargin": true,
           "gridcolor": "white",
           "linecolor": "white",
           "ticks": "",
           "title": {
            "standoff": 15
           },
           "zerolinecolor": "white",
           "zerolinewidth": 2
          }
         }
        }
       }
      }
     },
     "metadata": {},
     "output_type": "display_data"
    }
   ],
   "source": [
    "# Membuat tabel df dengan plotly\n",
    "data = go.Table(\n",
    "    header=dict(\n",
    "        values=df.columns.tolist(),\n",
    "        line = dict(color='#7D7F80'),\n",
    "        fill = dict(color='#a1c3d1'),\n",
    "    ),\n",
    "    cells=dict(\n",
    "        values=df.transpose().values.tolist(),\n",
    "        line = dict(color='#7D7F80'),\n",
    "        fill = dict(color='#EDFAFF'),\n",
    "    )\n",
    ")\n",
    "\n",
    "tabel = go.Figure(data=[data])\n",
    "tabel.show()"
   ]
  }
 ],
 "metadata": {
  "kernelspec": {
   "display_name": "base",
   "language": "python",
   "name": "python3"
  },
  "language_info": {
   "codemirror_mode": {
    "name": "ipython",
    "version": 3
   },
   "file_extension": ".py",
   "mimetype": "text/x-python",
   "name": "python",
   "nbconvert_exporter": "python",
   "pygments_lexer": "ipython3",
   "version": "3.9.12"
  },
  "orig_nbformat": 4
 },
 "nbformat": 4,
 "nbformat_minor": 2
}
